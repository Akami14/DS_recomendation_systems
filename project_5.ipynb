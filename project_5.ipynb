{
 "cells": [
  {
   "cell_type": "markdown",
   "metadata": {
    "id": "nMBdGcvjC4Ji"
   },
   "source": [
    "# Двухуровневая модели рекомендаций для данных X5 retail\n"
   ]
  },
  {
   "cell_type": "markdown",
   "metadata": {},
   "source": [
    "**Основное**  \n",
    "Данны данные о покупках 2500 пользователей в течении 95 недель так же есть характеристики пользователя и характеристики продукта.\n",
    "Задача разработать модель с\n",
    "- Целевая метрика precision@5 > 0.22"
   ]
  },
  {
   "cell_type": "code",
   "execution_count": 1,
   "metadata": {
    "id": "5Aur99NsC4Jm",
    "outputId": "9b9a338b-a52f-4253-9694-ac431b62eefc"
   },
   "outputs": [],
   "source": [
    "import pandas as pd\n",
    "import numpy as np\n",
    "import matplotlib.pyplot as plt\n",
    "%matplotlib inline\n",
    "\n",
    "# Для работы с матрицами\n",
    "from scipy.sparse import csr_matrix\n",
    "\n",
    "# Матричная факторизация\n",
    "from implicit.als import AlternatingLeastSquares\n",
    "from implicit import approximate_als\n",
    "from implicit.nearest_neighbours import ItemItemRecommender,  CosineRecommender\n",
    "\n",
    "# Модель второго уровня\n",
    "from catboost import CatBoostClassifier\n",
    "from utilis import prefilter_items, prefilter_items_v2\n",
    "from recomenders5 import MainRecommender\n",
    "from metrics import recall_at_k_mean, recall_at_k, precision_at_k, map_k_mean, NDCG_mean, ap_k\n",
    "from data_prepare import reduce_mem_usage, nan_replacer, feature_generator,user_feature_prepare, item_features_prepare\n",
    "from recomender_10 import MainRecommender\n",
    "import warnings\n",
    "warnings.filterwarnings(\"ignore\")"
   ]
  },
  {
   "cell_type": "code",
   "execution_count": 2,
   "metadata": {},
   "outputs": [],
   "source": [
    "%load_ext autoreload\n",
    "%autoreload 2"
   ]
  },
  {
   "cell_type": "code",
   "execution_count": 3,
   "metadata": {
    "id": "vso_erSdC4Jo",
    "outputId": "da20dbf1-3086-4fd6-ac92-f7653d7f9f71",
    "scrolled": false
   },
   "outputs": [],
   "source": [
    "data = pd.read_csv('retail_train.csv')\n",
    "#data = prefilter_items(data)\n",
    "\n",
    "item_features = pd.read_csv('product.csv')\n",
    "user_features = pd.read_csv('hh_demographic.csv')\n",
    "\n",
    "#column processing\n",
    "item_features.columns = [col.lower() for col in item_features.columns]\n",
    "user_features.columns = [col.lower() for col in user_features.columns]\n",
    "\n",
    "item_features.rename(columns={'product_id': 'item_id'}, inplace=True)\n",
    "user_features.rename(columns={'household_key': 'user_id'}, inplace=True)"
   ]
  },
  {
   "cell_type": "code",
   "execution_count": 4,
   "metadata": {},
   "outputs": [],
   "source": [
    "max_week = data['week_no'].max()\n",
    "condition_train = (data['week_no'] < max_week - 9)\n",
    "condition_valid = data['week_no'] >= max_week - 6\n",
    "condition_test = ((data['week_no'] >= max_week - 9) & (data['week_no'] < max_week - 6))\n",
    "                   \n",
    "data_train_L1 = data[condition_train]\n",
    "data_test_L1 = data[condition_test]\n",
    "\n",
    "data_train_L2 = data_test_L1.copy()\n",
    "data_valid_L2 = data[condition_valid]"
   ]
  },
  {
   "cell_type": "code",
   "execution_count": 5,
   "metadata": {},
   "outputs": [],
   "source": [
    "data_train_L1 = prefilter_items(data_train_L1, take_n=10000-1)"
   ]
  },
  {
   "cell_type": "code",
   "execution_count": 6,
   "metadata": {},
   "outputs": [
    {
     "data": {
      "text/plain": [
       "([], [1984], 1)"
      ]
     },
     "execution_count": 6,
     "metadata": {},
     "output_type": "execute_result"
    }
   ],
   "source": [
    "users_train_L1 = data_train_L1.user_id.unique()\n",
    "users_test_L1 = data_train_L1.user_id.unique()\n",
    "users_valid_L2 = data_valid_L2.user_id.unique()\n",
    "\n",
    "new_users_test_to_train = list(set(users_test_L1) - set(users_train_L1))\n",
    "\n",
    "new_users_L1_to_valid = list(set(users_valid_L2) - (set(users_train_L1) | set(users_test_L1)))\n",
    "\n",
    "add_to_L2 = list(set(users_valid_L2) - (set(users_test_L1)))\n",
    "\n",
    "new_users_test_to_train, new_users_L1_to_valid, len(add_to_L2)"
   ]
  },
  {
   "cell_type": "code",
   "execution_count": 7,
   "metadata": {},
   "outputs": [],
   "source": [
    "data_l1_l2_val = pd.concat([data_valid_L2, data_test_L1], ignore_index = True)"
   ]
  },
  {
   "cell_type": "code",
   "execution_count": 8,
   "metadata": {},
   "outputs": [],
   "source": [
    "def get_lvl_1(data_train_L1, data_train_L2, N, add_to_l2):\n",
    "    recommender = MainRecommender(data_train_L1)\n",
    "\n",
    "    users_l1 = data_train_L1['user_id'].unique()\n",
    "    users_l2 = data_train_L2['user_id'].unique().tolist()\n",
    "    if add_to_l2:\n",
    "        users_l2 += add_to_lvl_2\n",
    "\n",
    "    current_users = list(set(users_l2) & set(users_l1))    \n",
    "    new_users = list(set(users_l2) - set(users_l1))\n",
    "\n",
    "    df = pd.DataFrame(users_l2, columns=['user_id'])\n",
    "    cond_1 = df['user_id'].isin(current_users)\n",
    "    df.loc[cond_1, 'candidates'] = df.loc[cond_1, 'user_id'].apply(\n",
    "        lambda x: recommender.get_item_recommendations(x, N))\n",
    "\n",
    "    if new_users:\n",
    "        cond_2 = df['user_id'].isin(new_users)\n",
    "        df.loc[cond_2, 'candidates'] = df.loc[cond_2, 'user_id'].apply(\n",
    "            lambda x: recommender.overall_top_purchases[:N])\n",
    "        \n",
    "    return df\n",
    "\n"
   ]
  },
  {
   "cell_type": "code",
   "execution_count": 9,
   "metadata": {},
   "outputs": [],
   "source": [
    "def get_targets_l2(data_train_L1, data_train_L2, user_item_features, N, add_to_l2=None):\n",
    "    \n",
    "    users_L2 = get_lvl_1(data_train_L1, \n",
    "                                 data_train_L2, \n",
    "                                 N, \n",
    "                                 add_to_l2)\n",
    "    \n",
    "    df = pd.DataFrame({'user_id': users_L2['user_id'].values.repeat(N),\n",
    "                       'item_id': np.concatenate(users_L2['candidates'].values)})\n",
    "\n",
    "    targets_l2 = data_train_L2[['user_id', 'item_id']].copy()\n",
    "    targets_l2['target'] = 1 \n",
    "\n",
    "    targets_l2 = df.merge(targets_l2, on=['user_id', 'item_id'], how='left')\n",
    "    targets_l2['target'].fillna(0, inplace= True)\n",
    "    \n",
    "    targets_l2 = targets_l2.merge(user_item_features, on=['user_id', 'item_id'], how='left')\n",
    "    \n",
    "    return targets_l2\n",
    "\n"
   ]
  },
  {
   "cell_type": "markdown",
   "metadata": {},
   "source": [
    "# Генерация признаков"
   ]
  },
  {
   "cell_type": "code",
   "execution_count": 10,
   "metadata": {},
   "outputs": [],
   "source": [
    "item_features = item_features_prepare(item_features)"
   ]
  },
  {
   "cell_type": "code",
   "execution_count": 11,
   "metadata": {},
   "outputs": [],
   "source": [
    "user_feature = user_feature_prepare(user_features)"
   ]
  },
  {
   "cell_type": "code",
   "execution_count": 12,
   "metadata": {},
   "outputs": [
    {
     "name": "stdout",
     "output_type": "stream",
     "text": [
      "Добавлены следующие признаки:\n",
      "время покупки -hour\n",
      "день недели совершения транзакции-median_weekday\n",
      "кол-во транзакций покупок пользователем-n_transactions\n",
      "кол-во уникальных покупок пользователем-n_items\n",
      "средний чек пользвателя - mean_check\n",
      "средний чек на размер семьи-mean_ckeck_per_household_size\n",
      "популярность товара-popularity\n",
      "любимые товары пользователя-purchase_2,purchase_3,purchase_4\n"
     ]
    }
   ],
   "source": [
    "user_item_features = feature_generator(data_train_L1, user_feature, item_features)"
   ]
  },
  {
   "cell_type": "code",
   "execution_count": 13,
   "metadata": {},
   "outputs": [
    {
     "data": {
      "text/html": [
       "<div>\n",
       "<style scoped>\n",
       "    .dataframe tbody tr th:only-of-type {\n",
       "        vertical-align: middle;\n",
       "    }\n",
       "\n",
       "    .dataframe tbody tr th {\n",
       "        vertical-align: top;\n",
       "    }\n",
       "\n",
       "    .dataframe thead th {\n",
       "        text-align: right;\n",
       "    }\n",
       "</style>\n",
       "<table border=\"1\" class=\"dataframe\">\n",
       "  <thead>\n",
       "    <tr style=\"text-align: right;\">\n",
       "      <th></th>\n",
       "      <th>user_id</th>\n",
       "      <th>item_id</th>\n",
       "      <th>median_sales_hour</th>\n",
       "      <th>median_weekday</th>\n",
       "      <th>n_items</th>\n",
       "      <th>purchase_2</th>\n",
       "      <th>purchase_3</th>\n",
       "      <th>purchase_4</th>\n",
       "      <th>mean_check</th>\n",
       "      <th>n_transactions</th>\n",
       "      <th>...</th>\n",
       "      <th>household_size_desc</th>\n",
       "      <th>kid_category_desc</th>\n",
       "      <th>mean_ckeck_per_household_size</th>\n",
       "      <th>manufacturer</th>\n",
       "      <th>department</th>\n",
       "      <th>brand</th>\n",
       "      <th>commodity_desc</th>\n",
       "      <th>sub_commodity_desc</th>\n",
       "      <th>curr_size_of_product</th>\n",
       "      <th>commodity_category</th>\n",
       "    </tr>\n",
       "  </thead>\n",
       "  <tbody>\n",
       "    <tr>\n",
       "      <th>0</th>\n",
       "      <td>1</td>\n",
       "      <td>820165</td>\n",
       "      <td>13.0</td>\n",
       "      <td>2.0</td>\n",
       "      <td>345</td>\n",
       "      <td>856942.0</td>\n",
       "      <td>1082185.0</td>\n",
       "      <td>995242.0</td>\n",
       "      <td>50.264853</td>\n",
       "      <td>1374</td>\n",
       "      <td>...</td>\n",
       "      <td>2.0</td>\n",
       "      <td>0</td>\n",
       "      <td>25.132426</td>\n",
       "      <td>2.0</td>\n",
       "      <td>PRODUCE</td>\n",
       "      <td>1.0</td>\n",
       "      <td>CITRUS</td>\n",
       "      <td>ORANGES NAVELS ALL</td>\n",
       "      <td></td>\n",
       "      <td>166.0</td>\n",
       "    </tr>\n",
       "    <tr>\n",
       "      <th>1</th>\n",
       "      <td>1</td>\n",
       "      <td>823721</td>\n",
       "      <td>14.0</td>\n",
       "      <td>4.0</td>\n",
       "      <td>345</td>\n",
       "      <td>856942.0</td>\n",
       "      <td>1082185.0</td>\n",
       "      <td>995242.0</td>\n",
       "      <td>50.264853</td>\n",
       "      <td>1374</td>\n",
       "      <td>...</td>\n",
       "      <td>2.0</td>\n",
       "      <td>0</td>\n",
       "      <td>25.132426</td>\n",
       "      <td>317.0</td>\n",
       "      <td>GROCERY</td>\n",
       "      <td>1.0</td>\n",
       "      <td>CHEESE</td>\n",
       "      <td>GRATED CHEESE</td>\n",
       "      <td>8 OZ</td>\n",
       "      <td>14.0</td>\n",
       "    </tr>\n",
       "    <tr>\n",
       "      <th>2</th>\n",
       "      <td>1</td>\n",
       "      <td>823990</td>\n",
       "      <td>15.0</td>\n",
       "      <td>6.0</td>\n",
       "      <td>345</td>\n",
       "      <td>856942.0</td>\n",
       "      <td>1082185.0</td>\n",
       "      <td>995242.0</td>\n",
       "      <td>50.264853</td>\n",
       "      <td>1374</td>\n",
       "      <td>...</td>\n",
       "      <td>2.0</td>\n",
       "      <td>0</td>\n",
       "      <td>25.132426</td>\n",
       "      <td>2929.0</td>\n",
       "      <td>MEAT</td>\n",
       "      <td>1.0</td>\n",
       "      <td>BEEF</td>\n",
       "      <td>CHOICE BEEF</td>\n",
       "      <td></td>\n",
       "      <td>13.0</td>\n",
       "    </tr>\n",
       "    <tr>\n",
       "      <th>3</th>\n",
       "      <td>1</td>\n",
       "      <td>825123</td>\n",
       "      <td>15.0</td>\n",
       "      <td>4.0</td>\n",
       "      <td>345</td>\n",
       "      <td>856942.0</td>\n",
       "      <td>1082185.0</td>\n",
       "      <td>995242.0</td>\n",
       "      <td>50.264853</td>\n",
       "      <td>1374</td>\n",
       "      <td>...</td>\n",
       "      <td>2.0</td>\n",
       "      <td>0</td>\n",
       "      <td>25.132426</td>\n",
       "      <td>1179.0</td>\n",
       "      <td>GROCERY</td>\n",
       "      <td>1.0</td>\n",
       "      <td>SALD DRSNG/SNDWCH SPRD</td>\n",
       "      <td>SEMI-SOLID SALAD DRESSING MAY</td>\n",
       "      <td>30 OZ</td>\n",
       "      <td>34.0</td>\n",
       "    </tr>\n",
       "  </tbody>\n",
       "</table>\n",
       "<p>4 rows × 26 columns</p>\n",
       "</div>"
      ],
      "text/plain": [
       "   user_id  item_id  median_sales_hour  median_weekday  n_items  purchase_2  \\\n",
       "0        1   820165               13.0             2.0      345    856942.0   \n",
       "1        1   823721               14.0             4.0      345    856942.0   \n",
       "2        1   823990               15.0             6.0      345    856942.0   \n",
       "3        1   825123               15.0             4.0      345    856942.0   \n",
       "\n",
       "   purchase_3  purchase_4  mean_check  n_transactions  ...  \\\n",
       "0   1082185.0    995242.0   50.264853            1374  ...   \n",
       "1   1082185.0    995242.0   50.264853            1374  ...   \n",
       "2   1082185.0    995242.0   50.264853            1374  ...   \n",
       "3   1082185.0    995242.0   50.264853            1374  ...   \n",
       "\n",
       "   household_size_desc  kid_category_desc  mean_ckeck_per_household_size  \\\n",
       "0                  2.0                  0                      25.132426   \n",
       "1                  2.0                  0                      25.132426   \n",
       "2                  2.0                  0                      25.132426   \n",
       "3                  2.0                  0                      25.132426   \n",
       "\n",
       "   manufacturer  department  brand          commodity_desc  \\\n",
       "0           2.0     PRODUCE    1.0                  CITRUS   \n",
       "1         317.0     GROCERY    1.0                  CHEESE   \n",
       "2        2929.0        MEAT    1.0                    BEEF   \n",
       "3        1179.0     GROCERY    1.0  SALD DRSNG/SNDWCH SPRD   \n",
       "\n",
       "              sub_commodity_desc  curr_size_of_product  commodity_category  \n",
       "0             ORANGES NAVELS ALL                                     166.0  \n",
       "1                  GRATED CHEESE                  8 OZ                14.0  \n",
       "2                    CHOICE BEEF                                      13.0  \n",
       "3  SEMI-SOLID SALAD DRESSING MAY                 30 OZ                34.0  \n",
       "\n",
       "[4 rows x 26 columns]"
      ]
     },
     "execution_count": 13,
     "metadata": {},
     "output_type": "execute_result"
    }
   ],
   "source": [
    "user_item_features.head(4)"
   ]
  },
  {
   "cell_type": "code",
   "execution_count": 14,
   "metadata": {
    "scrolled": true
   },
   "outputs": [
    {
     "data": {
      "application/vnd.jupyter.widget-view+json": {
       "model_id": "82c27ee5392044a4aee5365927a6d52c",
       "version_major": 2,
       "version_minor": 0
      },
      "text/plain": [
       "  0%|          | 0/15 [00:00<?, ?it/s]"
      ]
     },
     "metadata": {},
     "output_type": "display_data"
    },
    {
     "data": {
      "application/vnd.jupyter.widget-view+json": {
       "model_id": "3f29ed7524534fea9448818331c16f27",
       "version_major": 2,
       "version_minor": 0
      },
      "text/plain": [
       "  0%|          | 0/10000 [00:00<?, ?it/s]"
      ]
     },
     "metadata": {},
     "output_type": "display_data"
    },
    {
     "data": {
      "application/vnd.jupyter.widget-view+json": {
       "model_id": "66641c9100c0493ead02e78c90316662",
       "version_major": 2,
       "version_minor": 0
      },
      "text/plain": [
       "  0%|          | 0/10000 [00:00<?, ?it/s]"
      ]
     },
     "metadata": {},
     "output_type": "display_data"
    },
    {
     "data": {
      "application/vnd.jupyter.widget-view+json": {
       "model_id": "7e4474b137704b26bfac197cb36ae8d4",
       "version_major": 2,
       "version_minor": 0
      },
      "text/plain": [
       "  0%|          | 0/10000 [00:00<?, ?it/s]"
      ]
     },
     "metadata": {},
     "output_type": "display_data"
    },
    {
     "name": "stdout",
     "output_type": "stream",
     "text": [
      "Число пользователей: 1935\n",
      "CPU times: total: 40.7 s\n",
      "Wall time: 14.2 s\n"
     ]
    },
    {
     "data": {
      "text/html": [
       "<div>\n",
       "<style scoped>\n",
       "    .dataframe tbody tr th:only-of-type {\n",
       "        vertical-align: middle;\n",
       "    }\n",
       "\n",
       "    .dataframe tbody tr th {\n",
       "        vertical-align: top;\n",
       "    }\n",
       "\n",
       "    .dataframe thead th {\n",
       "        text-align: right;\n",
       "    }\n",
       "</style>\n",
       "<table border=\"1\" class=\"dataframe\">\n",
       "  <thead>\n",
       "    <tr style=\"text-align: right;\">\n",
       "      <th></th>\n",
       "      <th>user_id</th>\n",
       "      <th>item_id</th>\n",
       "      <th>target</th>\n",
       "      <th>median_sales_hour</th>\n",
       "      <th>median_weekday</th>\n",
       "      <th>n_items</th>\n",
       "      <th>purchase_2</th>\n",
       "      <th>purchase_3</th>\n",
       "      <th>purchase_4</th>\n",
       "      <th>mean_check</th>\n",
       "      <th>...</th>\n",
       "      <th>household_size_desc</th>\n",
       "      <th>kid_category_desc</th>\n",
       "      <th>mean_ckeck_per_household_size</th>\n",
       "      <th>manufacturer</th>\n",
       "      <th>department</th>\n",
       "      <th>brand</th>\n",
       "      <th>commodity_desc</th>\n",
       "      <th>sub_commodity_desc</th>\n",
       "      <th>curr_size_of_product</th>\n",
       "      <th>commodity_category</th>\n",
       "    </tr>\n",
       "  </thead>\n",
       "  <tbody>\n",
       "    <tr>\n",
       "      <th>0</th>\n",
       "      <td>2070</td>\n",
       "      <td>1082185</td>\n",
       "      <td>0.0</td>\n",
       "      <td>18.0</td>\n",
       "      <td>2.0</td>\n",
       "      <td>721.0</td>\n",
       "      <td>1085604.0</td>\n",
       "      <td>834103.0</td>\n",
       "      <td>1055863.0</td>\n",
       "      <td>11.571104</td>\n",
       "      <td>...</td>\n",
       "      <td>1.0</td>\n",
       "      <td>0</td>\n",
       "      <td>11.571104</td>\n",
       "      <td>2.0</td>\n",
       "      <td>PRODUCE</td>\n",
       "      <td>1.0</td>\n",
       "      <td>TROPICAL FRUIT</td>\n",
       "      <td>BANANAS</td>\n",
       "      <td>40 LB</td>\n",
       "      <td>216.0</td>\n",
       "    </tr>\n",
       "    <tr>\n",
       "      <th>1</th>\n",
       "      <td>2070</td>\n",
       "      <td>981760</td>\n",
       "      <td>1.0</td>\n",
       "      <td>22.0</td>\n",
       "      <td>4.0</td>\n",
       "      <td>721.0</td>\n",
       "      <td>1085604.0</td>\n",
       "      <td>834103.0</td>\n",
       "      <td>1055863.0</td>\n",
       "      <td>11.571104</td>\n",
       "      <td>...</td>\n",
       "      <td>1.0</td>\n",
       "      <td>0</td>\n",
       "      <td>11.571104</td>\n",
       "      <td>69.0</td>\n",
       "      <td>GROCERY</td>\n",
       "      <td>0.0</td>\n",
       "      <td>EGGS</td>\n",
       "      <td>EGGS - X-LARGE</td>\n",
       "      <td>1 DZ</td>\n",
       "      <td>184.0</td>\n",
       "    </tr>\n",
       "    <tr>\n",
       "      <th>2</th>\n",
       "      <td>2070</td>\n",
       "      <td>1098066</td>\n",
       "      <td>0.0</td>\n",
       "      <td>21.0</td>\n",
       "      <td>4.0</td>\n",
       "      <td>721.0</td>\n",
       "      <td>1085604.0</td>\n",
       "      <td>834103.0</td>\n",
       "      <td>1055863.0</td>\n",
       "      <td>11.571104</td>\n",
       "      <td>...</td>\n",
       "      <td>1.0</td>\n",
       "      <td>0</td>\n",
       "      <td>11.571104</td>\n",
       "      <td>69.0</td>\n",
       "      <td>GROCERY</td>\n",
       "      <td>0.0</td>\n",
       "      <td>BAKED BREAD/BUNS/ROLLS</td>\n",
       "      <td>HOT DOG BUNS</td>\n",
       "      <td>11 OZ</td>\n",
       "      <td>10.0</td>\n",
       "    </tr>\n",
       "    <tr>\n",
       "      <th>3</th>\n",
       "      <td>2070</td>\n",
       "      <td>1127831</td>\n",
       "      <td>0.0</td>\n",
       "      <td>19.0</td>\n",
       "      <td>4.0</td>\n",
       "      <td>721.0</td>\n",
       "      <td>1085604.0</td>\n",
       "      <td>834103.0</td>\n",
       "      <td>1055863.0</td>\n",
       "      <td>11.571104</td>\n",
       "      <td>...</td>\n",
       "      <td>1.0</td>\n",
       "      <td>0</td>\n",
       "      <td>11.571104</td>\n",
       "      <td>5937.0</td>\n",
       "      <td>PRODUCE</td>\n",
       "      <td>1.0</td>\n",
       "      <td>BERRIES</td>\n",
       "      <td>STRAWBERRIES</td>\n",
       "      <td>16 OZ</td>\n",
       "      <td>200.0</td>\n",
       "    </tr>\n",
       "    <tr>\n",
       "      <th>4</th>\n",
       "      <td>2070</td>\n",
       "      <td>995242</td>\n",
       "      <td>0.0</td>\n",
       "      <td>21.5</td>\n",
       "      <td>4.0</td>\n",
       "      <td>721.0</td>\n",
       "      <td>1085604.0</td>\n",
       "      <td>834103.0</td>\n",
       "      <td>1055863.0</td>\n",
       "      <td>11.571104</td>\n",
       "      <td>...</td>\n",
       "      <td>1.0</td>\n",
       "      <td>0</td>\n",
       "      <td>11.571104</td>\n",
       "      <td>69.0</td>\n",
       "      <td>GROCERY</td>\n",
       "      <td>0.0</td>\n",
       "      <td>FLUID MILK PRODUCTS</td>\n",
       "      <td>FLUID MILK WHITE ONLY</td>\n",
       "      <td></td>\n",
       "      <td>62.0</td>\n",
       "    </tr>\n",
       "  </tbody>\n",
       "</table>\n",
       "<p>5 rows × 27 columns</p>\n",
       "</div>"
      ],
      "text/plain": [
       "   user_id  item_id  target  median_sales_hour  median_weekday  n_items  \\\n",
       "0     2070  1082185     0.0               18.0             2.0    721.0   \n",
       "1     2070   981760     1.0               22.0             4.0    721.0   \n",
       "2     2070  1098066     0.0               21.0             4.0    721.0   \n",
       "3     2070  1127831     0.0               19.0             4.0    721.0   \n",
       "4     2070   995242     0.0               21.5             4.0    721.0   \n",
       "\n",
       "   purchase_2  purchase_3  purchase_4  mean_check  ...  household_size_desc  \\\n",
       "0   1085604.0    834103.0   1055863.0   11.571104  ...                  1.0   \n",
       "1   1085604.0    834103.0   1055863.0   11.571104  ...                  1.0   \n",
       "2   1085604.0    834103.0   1055863.0   11.571104  ...                  1.0   \n",
       "3   1085604.0    834103.0   1055863.0   11.571104  ...                  1.0   \n",
       "4   1085604.0    834103.0   1055863.0   11.571104  ...                  1.0   \n",
       "\n",
       "   kid_category_desc  mean_ckeck_per_household_size  manufacturer  department  \\\n",
       "0                  0                      11.571104           2.0     PRODUCE   \n",
       "1                  0                      11.571104          69.0     GROCERY   \n",
       "2                  0                      11.571104          69.0     GROCERY   \n",
       "3                  0                      11.571104        5937.0     PRODUCE   \n",
       "4                  0                      11.571104          69.0     GROCERY   \n",
       "\n",
       "   brand          commodity_desc     sub_commodity_desc curr_size_of_product  \\\n",
       "0    1.0          TROPICAL FRUIT                BANANAS                40 LB   \n",
       "1    0.0                    EGGS         EGGS - X-LARGE                 1 DZ   \n",
       "2    0.0  BAKED BREAD/BUNS/ROLLS           HOT DOG BUNS                11 OZ   \n",
       "3    1.0                 BERRIES           STRAWBERRIES                16 OZ   \n",
       "4    0.0     FLUID MILK PRODUCTS  FLUID MILK WHITE ONLY                        \n",
       "\n",
       "   commodity_category  \n",
       "0               216.0  \n",
       "1               184.0  \n",
       "2                10.0  \n",
       "3               200.0  \n",
       "4                62.0  \n",
       "\n",
       "[5 rows x 27 columns]"
      ]
     },
     "execution_count": 14,
     "metadata": {},
     "output_type": "execute_result"
    }
   ],
   "source": [
    "%%time\n",
    "\n",
    "N = 1000\n",
    "\n",
    "targets_l2 = get_targets_l2(data_train_L1, data_train_L2, user_item_features, N, add_to_l2=None)\n",
    "\n",
    "print(f'Число пользователей: {targets_l2.user_id.nunique()}')\n",
    "\n",
    "targets_l2.head()\n",
    "\n"
   ]
  },
  {
   "cell_type": "code",
   "execution_count": 15,
   "metadata": {},
   "outputs": [],
   "source": [
    "targets_l2 = nan_replacer(targets_l2)"
   ]
  },
  {
   "cell_type": "code",
   "execution_count": 16,
   "metadata": {},
   "outputs": [
    {
     "name": "stdout",
     "output_type": "stream",
     "text": [
      "<class 'pandas.core.frame.DataFrame'>\n",
      "RangeIndex: 1944011 entries, 0 to 1944010\n",
      "Data columns (total 27 columns):\n",
      " #   Column                         Dtype   \n",
      "---  ------                         -----   \n",
      " 0   user_id                        int64   \n",
      " 1   item_id                        int64   \n",
      " 2   target                         float64 \n",
      " 3   median_sales_hour              float64 \n",
      " 4   median_weekday                 float64 \n",
      " 5   n_items                        float64 \n",
      " 6   purchase_2                     float64 \n",
      " 7   purchase_3                     float64 \n",
      " 8   purchase_4                     float64 \n",
      " 9   mean_check                     float64 \n",
      " 10  n_transactions                 float64 \n",
      " 11  popularity                     float64 \n",
      " 12  age_desc                       float64 \n",
      " 13  marital_status_code            float64 \n",
      " 14  income_desc                    float64 \n",
      " 15  homeowner_desc                 float64 \n",
      " 16  hh_comp_desc                   float64 \n",
      " 17  household_size_desc            float64 \n",
      " 18  kid_category_desc              object  \n",
      " 19  mean_ckeck_per_household_size  float64 \n",
      " 20  manufacturer                   float64 \n",
      " 21  department                     category\n",
      " 22  brand                          float64 \n",
      " 23  commodity_desc                 category\n",
      " 24  sub_commodity_desc             object  \n",
      " 25  curr_size_of_product           object  \n",
      " 26  commodity_category             float64 \n",
      "dtypes: category(2), float64(20), int64(2), object(3)\n",
      "memory usage: 376.4+ MB\n"
     ]
    }
   ],
   "source": [
    "targets_l2.info()"
   ]
  },
  {
   "cell_type": "code",
   "execution_count": 17,
   "metadata": {
    "scrolled": true
   },
   "outputs": [
    {
     "data": {
      "text/html": [
       "<div>\n",
       "<style scoped>\n",
       "    .dataframe tbody tr th:only-of-type {\n",
       "        vertical-align: middle;\n",
       "    }\n",
       "\n",
       "    .dataframe tbody tr th {\n",
       "        vertical-align: top;\n",
       "    }\n",
       "\n",
       "    .dataframe thead th {\n",
       "        text-align: right;\n",
       "    }\n",
       "</style>\n",
       "<table border=\"1\" class=\"dataframe\">\n",
       "  <thead>\n",
       "    <tr style=\"text-align: right;\">\n",
       "      <th></th>\n",
       "      <th>user_id</th>\n",
       "      <th>item_id</th>\n",
       "      <th>target</th>\n",
       "      <th>median_sales_hour</th>\n",
       "      <th>median_weekday</th>\n",
       "      <th>n_items</th>\n",
       "      <th>purchase_2</th>\n",
       "      <th>purchase_3</th>\n",
       "      <th>purchase_4</th>\n",
       "      <th>mean_check</th>\n",
       "      <th>...</th>\n",
       "      <th>household_size_desc</th>\n",
       "      <th>kid_category_desc</th>\n",
       "      <th>mean_ckeck_per_household_size</th>\n",
       "      <th>manufacturer</th>\n",
       "      <th>department</th>\n",
       "      <th>brand</th>\n",
       "      <th>commodity_desc</th>\n",
       "      <th>sub_commodity_desc</th>\n",
       "      <th>curr_size_of_product</th>\n",
       "      <th>commodity_category</th>\n",
       "    </tr>\n",
       "  </thead>\n",
       "  <tbody>\n",
       "    <tr>\n",
       "      <th>0</th>\n",
       "      <td>2070</td>\n",
       "      <td>1082185</td>\n",
       "      <td>0.0</td>\n",
       "      <td>18.0</td>\n",
       "      <td>2.0</td>\n",
       "      <td>721.0</td>\n",
       "      <td>1085604.0</td>\n",
       "      <td>834103.0</td>\n",
       "      <td>1055863.0</td>\n",
       "      <td>11.571104</td>\n",
       "      <td>...</td>\n",
       "      <td>1.0</td>\n",
       "      <td>0</td>\n",
       "      <td>11.571104</td>\n",
       "      <td>2.0</td>\n",
       "      <td>PRODUCE</td>\n",
       "      <td>1.0</td>\n",
       "      <td>TROPICAL FRUIT</td>\n",
       "      <td>BANANAS</td>\n",
       "      <td>40 LB</td>\n",
       "      <td>216.0</td>\n",
       "    </tr>\n",
       "    <tr>\n",
       "      <th>1</th>\n",
       "      <td>2070</td>\n",
       "      <td>981760</td>\n",
       "      <td>1.0</td>\n",
       "      <td>22.0</td>\n",
       "      <td>4.0</td>\n",
       "      <td>721.0</td>\n",
       "      <td>1085604.0</td>\n",
       "      <td>834103.0</td>\n",
       "      <td>1055863.0</td>\n",
       "      <td>11.571104</td>\n",
       "      <td>...</td>\n",
       "      <td>1.0</td>\n",
       "      <td>0</td>\n",
       "      <td>11.571104</td>\n",
       "      <td>69.0</td>\n",
       "      <td>GROCERY</td>\n",
       "      <td>0.0</td>\n",
       "      <td>EGGS</td>\n",
       "      <td>EGGS - X-LARGE</td>\n",
       "      <td>1 DZ</td>\n",
       "      <td>184.0</td>\n",
       "    </tr>\n",
       "    <tr>\n",
       "      <th>2</th>\n",
       "      <td>2070</td>\n",
       "      <td>1098066</td>\n",
       "      <td>0.0</td>\n",
       "      <td>21.0</td>\n",
       "      <td>4.0</td>\n",
       "      <td>721.0</td>\n",
       "      <td>1085604.0</td>\n",
       "      <td>834103.0</td>\n",
       "      <td>1055863.0</td>\n",
       "      <td>11.571104</td>\n",
       "      <td>...</td>\n",
       "      <td>1.0</td>\n",
       "      <td>0</td>\n",
       "      <td>11.571104</td>\n",
       "      <td>69.0</td>\n",
       "      <td>GROCERY</td>\n",
       "      <td>0.0</td>\n",
       "      <td>BAKED BREAD/BUNS/ROLLS</td>\n",
       "      <td>HOT DOG BUNS</td>\n",
       "      <td>11 OZ</td>\n",
       "      <td>10.0</td>\n",
       "    </tr>\n",
       "    <tr>\n",
       "      <th>3</th>\n",
       "      <td>2070</td>\n",
       "      <td>1127831</td>\n",
       "      <td>0.0</td>\n",
       "      <td>19.0</td>\n",
       "      <td>4.0</td>\n",
       "      <td>721.0</td>\n",
       "      <td>1085604.0</td>\n",
       "      <td>834103.0</td>\n",
       "      <td>1055863.0</td>\n",
       "      <td>11.571104</td>\n",
       "      <td>...</td>\n",
       "      <td>1.0</td>\n",
       "      <td>0</td>\n",
       "      <td>11.571104</td>\n",
       "      <td>5937.0</td>\n",
       "      <td>PRODUCE</td>\n",
       "      <td>1.0</td>\n",
       "      <td>BERRIES</td>\n",
       "      <td>STRAWBERRIES</td>\n",
       "      <td>16 OZ</td>\n",
       "      <td>200.0</td>\n",
       "    </tr>\n",
       "    <tr>\n",
       "      <th>4</th>\n",
       "      <td>2070</td>\n",
       "      <td>995242</td>\n",
       "      <td>0.0</td>\n",
       "      <td>21.5</td>\n",
       "      <td>4.0</td>\n",
       "      <td>721.0</td>\n",
       "      <td>1085604.0</td>\n",
       "      <td>834103.0</td>\n",
       "      <td>1055863.0</td>\n",
       "      <td>11.571104</td>\n",
       "      <td>...</td>\n",
       "      <td>1.0</td>\n",
       "      <td>0</td>\n",
       "      <td>11.571104</td>\n",
       "      <td>69.0</td>\n",
       "      <td>GROCERY</td>\n",
       "      <td>0.0</td>\n",
       "      <td>FLUID MILK PRODUCTS</td>\n",
       "      <td>FLUID MILK WHITE ONLY</td>\n",
       "      <td></td>\n",
       "      <td>62.0</td>\n",
       "    </tr>\n",
       "  </tbody>\n",
       "</table>\n",
       "<p>5 rows × 27 columns</p>\n",
       "</div>"
      ],
      "text/plain": [
       "   user_id  item_id  target  median_sales_hour  median_weekday  n_items  \\\n",
       "0     2070  1082185     0.0               18.0             2.0    721.0   \n",
       "1     2070   981760     1.0               22.0             4.0    721.0   \n",
       "2     2070  1098066     0.0               21.0             4.0    721.0   \n",
       "3     2070  1127831     0.0               19.0             4.0    721.0   \n",
       "4     2070   995242     0.0               21.5             4.0    721.0   \n",
       "\n",
       "   purchase_2  purchase_3  purchase_4  mean_check  ...  household_size_desc  \\\n",
       "0   1085604.0    834103.0   1055863.0   11.571104  ...                  1.0   \n",
       "1   1085604.0    834103.0   1055863.0   11.571104  ...                  1.0   \n",
       "2   1085604.0    834103.0   1055863.0   11.571104  ...                  1.0   \n",
       "3   1085604.0    834103.0   1055863.0   11.571104  ...                  1.0   \n",
       "4   1085604.0    834103.0   1055863.0   11.571104  ...                  1.0   \n",
       "\n",
       "   kid_category_desc  mean_ckeck_per_household_size  manufacturer  department  \\\n",
       "0                  0                      11.571104           2.0     PRODUCE   \n",
       "1                  0                      11.571104          69.0     GROCERY   \n",
       "2                  0                      11.571104          69.0     GROCERY   \n",
       "3                  0                      11.571104        5937.0     PRODUCE   \n",
       "4                  0                      11.571104          69.0     GROCERY   \n",
       "\n",
       "   brand          commodity_desc     sub_commodity_desc curr_size_of_product  \\\n",
       "0    1.0          TROPICAL FRUIT                BANANAS                40 LB   \n",
       "1    0.0                    EGGS         EGGS - X-LARGE                 1 DZ   \n",
       "2    0.0  BAKED BREAD/BUNS/ROLLS           HOT DOG BUNS                11 OZ   \n",
       "3    1.0                 BERRIES           STRAWBERRIES                16 OZ   \n",
       "4    0.0     FLUID MILK PRODUCTS  FLUID MILK WHITE ONLY                        \n",
       "\n",
       "   commodity_category  \n",
       "0               216.0  \n",
       "1               184.0  \n",
       "2                10.0  \n",
       "3               200.0  \n",
       "4                62.0  \n",
       "\n",
       "[5 rows x 27 columns]"
      ]
     },
     "execution_count": 17,
     "metadata": {},
     "output_type": "execute_result"
    }
   ],
   "source": [
    "targets_l2.head(5)"
   ]
  },
  {
   "cell_type": "markdown",
   "metadata": {},
   "source": [
    "# Уровень 2"
   ]
  },
  {
   "cell_type": "markdown",
   "metadata": {},
   "source": [
    "## Разделение на трейн и предикт"
   ]
  },
  {
   "cell_type": "code",
   "execution_count": 18,
   "metadata": {},
   "outputs": [],
   "source": [
    "X_train = targets_l2.drop('target', axis=1)\n",
    "y_train = targets_l2[['target']]"
   ]
  },
  {
   "cell_type": "code",
   "execution_count": 19,
   "metadata": {
    "scrolled": true
   },
   "outputs": [
    {
     "data": {
      "text/plain": [
       "1935"
      ]
     },
     "execution_count": 19,
     "metadata": {},
     "output_type": "execute_result"
    }
   ],
   "source": [
    "X_train['user_id'].nunique()"
   ]
  },
  {
   "cell_type": "code",
   "execution_count": 20,
   "metadata": {},
   "outputs": [
    {
     "data": {
      "text/plain": [
       "(1944011, 26)"
      ]
     },
     "execution_count": 20,
     "metadata": {},
     "output_type": "execute_result"
    }
   ],
   "source": [
    "X_train.shape"
   ]
  },
  {
   "cell_type": "code",
   "execution_count": 21,
   "metadata": {},
   "outputs": [
    {
     "name": "stdout",
     "output_type": "stream",
     "text": [
      "<class 'pandas.core.frame.DataFrame'>\n",
      "RangeIndex: 1944011 entries, 0 to 1944010\n",
      "Data columns (total 26 columns):\n",
      " #   Column                         Dtype   \n",
      "---  ------                         -----   \n",
      " 0   user_id                        int64   \n",
      " 1   item_id                        int64   \n",
      " 2   median_sales_hour              float64 \n",
      " 3   median_weekday                 float64 \n",
      " 4   n_items                        float64 \n",
      " 5   purchase_2                     float64 \n",
      " 6   purchase_3                     float64 \n",
      " 7   purchase_4                     float64 \n",
      " 8   mean_check                     float64 \n",
      " 9   n_transactions                 float64 \n",
      " 10  popularity                     float64 \n",
      " 11  age_desc                       float64 \n",
      " 12  marital_status_code            float64 \n",
      " 13  income_desc                    float64 \n",
      " 14  homeowner_desc                 float64 \n",
      " 15  hh_comp_desc                   float64 \n",
      " 16  household_size_desc            float64 \n",
      " 17  kid_category_desc              object  \n",
      " 18  mean_ckeck_per_household_size  float64 \n",
      " 19  manufacturer                   float64 \n",
      " 20  department                     category\n",
      " 21  brand                          float64 \n",
      " 22  commodity_desc                 category\n",
      " 23  sub_commodity_desc             object  \n",
      " 24  curr_size_of_product           object  \n",
      " 25  commodity_category             float64 \n",
      "dtypes: category(2), float64(19), int64(2), object(3)\n",
      "memory usage: 361.5+ MB\n"
     ]
    }
   ],
   "source": [
    "X_train.info()"
   ]
  },
  {
   "cell_type": "markdown",
   "metadata": {},
   "source": [
    "## Предобработка обучающего множества"
   ]
  },
  {
   "cell_type": "code",
   "execution_count": 22,
   "metadata": {},
   "outputs": [],
   "source": [
    "choosen_feature = [ 'purchase_2',\n",
    "                  'n_transactions',\n",
    "                  'popularity',\n",
    "                  'item_id',\n",
    "                  'commodity_category',\n",
    "                  'sub_commodity_desc',\n",
    "                  'n_items',\n",
    "                  'mean_check',\n",
    "                  'commodity_desc',\n",
    "                  'median_weekday',\n",
    "                  'median_sales_hour',\n",
    "                  'user_id']"
   ]
  },
  {
   "cell_type": "code",
   "execution_count": 23,
   "metadata": {
    "scrolled": true
   },
   "outputs": [
    {
     "name": "stdout",
     "output_type": "stream",
     "text": [
      "Memory usage of dataframe is 361.53 MB\n",
      "Memory usage after optimization is: 166.95 MB\n",
      "Decreased by 53.8%\n"
     ]
    }
   ],
   "source": [
    "X_train = reduce_mem_usage(X_train)"
   ]
  },
  {
   "cell_type": "code",
   "execution_count": 25,
   "metadata": {},
   "outputs": [],
   "source": [
    "X_train = X_train[choosen_feature]"
   ]
  },
  {
   "cell_type": "code",
   "execution_count": 26,
   "metadata": {},
   "outputs": [],
   "source": [
    "categorial_columns = [col for col in X_train.columns if X_train[col].dtype =='category']\n",
    "#categorial_columns.append('commodity_category')"
   ]
  },
  {
   "cell_type": "code",
   "execution_count": 27,
   "metadata": {
    "scrolled": false
   },
   "outputs": [
    {
     "data": {
      "text/plain": [
       "['sub_commodity_desc', 'commodity_desc']"
      ]
     },
     "execution_count": 27,
     "metadata": {},
     "output_type": "execute_result"
    }
   ],
   "source": [
    "categorial_columns"
   ]
  },
  {
   "cell_type": "code",
   "execution_count": 28,
   "metadata": {
    "scrolled": true
   },
   "outputs": [
    {
     "data": {
      "text/plain": [
       "Index(['purchase_2', 'n_transactions', 'popularity', 'item_id',\n",
       "       'commodity_category', 'sub_commodity_desc', 'n_items', 'mean_check',\n",
       "       'commodity_desc', 'median_weekday', 'median_sales_hour', 'user_id'],\n",
       "      dtype='object')"
      ]
     },
     "execution_count": 28,
     "metadata": {},
     "output_type": "execute_result"
    }
   ],
   "source": [
    "X_train.columns"
   ]
  },
  {
   "cell_type": "code",
   "execution_count": 29,
   "metadata": {},
   "outputs": [
    {
     "name": "stdout",
     "output_type": "stream",
     "text": [
      "<class 'pandas.core.frame.DataFrame'>\n",
      "RangeIndex: 1944011 entries, 0 to 1944010\n",
      "Data columns (total 12 columns):\n",
      " #   Column              Dtype   \n",
      "---  ------              -----   \n",
      " 0   purchase_2          float32 \n",
      " 1   n_transactions      float32 \n",
      " 2   popularity          float32 \n",
      " 3   item_id             int32   \n",
      " 4   commodity_category  float32 \n",
      " 5   sub_commodity_desc  category\n",
      " 6   n_items             float32 \n",
      " 7   mean_check          float32 \n",
      " 8   commodity_desc      category\n",
      " 9   median_weekday      float32 \n",
      " 10  median_sales_hour   float32 \n",
      " 11  user_id             int16   \n",
      "dtypes: category(2), float32(8), int16(1), int32(1)\n",
      "memory usage: 77.9 MB\n"
     ]
    }
   ],
   "source": [
    "X_train.info()"
   ]
  },
  {
   "cell_type": "markdown",
   "metadata": {},
   "source": [
    "## Обучение"
   ]
  },
  {
   "cell_type": "code",
   "execution_count": 30,
   "metadata": {},
   "outputs": [
    {
     "name": "stdout",
     "output_type": "stream",
     "text": [
      "CPU times: total: 1h 32min 35s\n",
      "Wall time: 15min 7s\n"
     ]
    },
    {
     "data": {
      "text/plain": [
       "<catboost.core.CatBoostClassifier at 0x1d000e92250>"
      ]
     },
     "execution_count": 30,
     "metadata": {},
     "output_type": "execute_result"
    }
   ],
   "source": [
    "%%time\n",
    "cat = CatBoostClassifier(max_depth=5, n_estimators=1000, cat_features=categorial_columns, random_state=14, silent=True)\n",
    "cat.fit(X_train, y_train, cat_features=categorial_columns)"
   ]
  },
  {
   "cell_type": "code",
   "execution_count": 31,
   "metadata": {},
   "outputs": [],
   "source": [
    "train_preds_proba = cat.predict_proba(X_train)"
   ]
  },
  {
   "cell_type": "code",
   "execution_count": 32,
   "metadata": {},
   "outputs": [],
   "source": [
    "valid_l2 = data_valid_L2.groupby('user_id')['item_id'].unique().reset_index()\n",
    "valid_l2.columns = ['user_id', 'actual']"
   ]
  },
  {
   "cell_type": "code",
   "execution_count": 33,
   "metadata": {},
   "outputs": [
    {
     "data": {
      "text/html": [
       "<div>\n",
       "<style scoped>\n",
       "    .dataframe tbody tr th:only-of-type {\n",
       "        vertical-align: middle;\n",
       "    }\n",
       "\n",
       "    .dataframe tbody tr th {\n",
       "        vertical-align: top;\n",
       "    }\n",
       "\n",
       "    .dataframe thead th {\n",
       "        text-align: right;\n",
       "    }\n",
       "</style>\n",
       "<table border=\"1\" class=\"dataframe\">\n",
       "  <thead>\n",
       "    <tr style=\"text-align: right;\">\n",
       "      <th></th>\n",
       "      <th>user_id</th>\n",
       "      <th>actual</th>\n",
       "    </tr>\n",
       "  </thead>\n",
       "  <tbody>\n",
       "    <tr>\n",
       "      <th>0</th>\n",
       "      <td>1</td>\n",
       "      <td>[829323, 835108, 836423, 851515, 875240, 87737...</td>\n",
       "    </tr>\n",
       "    <tr>\n",
       "      <th>1</th>\n",
       "      <td>2</td>\n",
       "      <td>[895388, 8357614, 12301772, 821083, 828106, 83...</td>\n",
       "    </tr>\n",
       "    <tr>\n",
       "      <th>2</th>\n",
       "      <td>3</td>\n",
       "      <td>[835476, 851057, 872021, 878302, 879948, 90963...</td>\n",
       "    </tr>\n",
       "    <tr>\n",
       "      <th>3</th>\n",
       "      <td>4</td>\n",
       "      <td>[831063, 883932, 891423, 908283, 954966, 96222...</td>\n",
       "    </tr>\n",
       "    <tr>\n",
       "      <th>4</th>\n",
       "      <td>6</td>\n",
       "      <td>[850102, 897088, 940806, 1062782, 1078346, 103...</td>\n",
       "    </tr>\n",
       "  </tbody>\n",
       "</table>\n",
       "</div>"
      ],
      "text/plain": [
       "   user_id                                             actual\n",
       "0        1  [829323, 835108, 836423, 851515, 875240, 87737...\n",
       "1        2  [895388, 8357614, 12301772, 821083, 828106, 83...\n",
       "2        3  [835476, 851057, 872021, 878302, 879948, 90963...\n",
       "3        4  [831063, 883932, 891423, 908283, 954966, 96222...\n",
       "4        6  [850102, 897088, 940806, 1062782, 1078346, 103..."
      ]
     },
     "execution_count": 33,
     "metadata": {},
     "output_type": "execute_result"
    }
   ],
   "source": [
    "valid_l2.head(5)"
   ]
  },
  {
   "cell_type": "code",
   "execution_count": 34,
   "metadata": {},
   "outputs": [],
   "source": [
    "result_2_train = X_train[['user_id', 'item_id']]\n",
    "result_2_train['predictions'] = train_preds_proba[:,1]\n",
    "result_2_train = result_2_train.groupby(['user_id', 'item_id'])['predictions'].median().reset_index()\n",
    "result_2_train = result_2_train.sort_values(['predictions'], ascending=False).groupby(['user_id']).head(25)\n",
    "result_2_train = result_2_train.groupby('user_id')['item_id'].unique().reset_index()\n",
    "result_2_train.columns = ['user_id','model_train']"
   ]
  },
  {
   "cell_type": "code",
   "execution_count": 35,
   "metadata": {
    "scrolled": true
   },
   "outputs": [
    {
     "data": {
      "text/plain": [
       "((2197, 2), (1935, 2))"
      ]
     },
     "execution_count": 35,
     "metadata": {},
     "output_type": "execute_result"
    }
   ],
   "source": [
    "valid_l2.shape, result_2_train.shape"
   ]
  },
  {
   "cell_type": "code",
   "execution_count": 36,
   "metadata": {},
   "outputs": [],
   "source": [
    "result_2_train = result_2_train.merge(valid_l2, on='user_id')"
   ]
  },
  {
   "cell_type": "markdown",
   "metadata": {},
   "source": [
    "### Точность на Тренировочной выборке"
   ]
  },
  {
   "cell_type": "code",
   "execution_count": 37,
   "metadata": {},
   "outputs": [
    {
     "data": {
      "text/plain": [
       "0.397732181425486"
      ]
     },
     "execution_count": 37,
     "metadata": {},
     "output_type": "execute_result"
    }
   ],
   "source": [
    "result_2_train.apply(lambda row: precision_at_k(row['model_train'], row['actual'], k=5), axis=1).mean()"
   ]
  },
  {
   "cell_type": "code",
   "execution_count": 38,
   "metadata": {},
   "outputs": [],
   "source": [
    "importance = []\n",
    "for f, n in zip(cat.feature_importances_, cat.feature_names_):\n",
    "    importance.append((f,n))\n",
    "importance.sort(reverse=True)"
   ]
  },
  {
   "cell_type": "code",
   "execution_count": 39,
   "metadata": {
    "scrolled": true
   },
   "outputs": [
    {
     "data": {
      "text/plain": [
       "[(15.866178229818274, 'n_items'),\n",
       " (14.155511484960105, 'n_transactions'),\n",
       " (12.417155459812689, 'purchase_2'),\n",
       " (11.386377463211138, 'mean_check'),\n",
       " (10.973645487756261, 'popularity'),\n",
       " (6.661196531686121, 'item_id'),\n",
       " (6.07303618517003, 'user_id'),\n",
       " (5.456213210494308, 'median_weekday'),\n",
       " (4.835632122111148, 'commodity_category'),\n",
       " (4.538214409490302, 'sub_commodity_desc'),\n",
       " (4.439713493388671, 'median_sales_hour'),\n",
       " (3.1971259221008768, 'commodity_desc')]"
      ]
     },
     "execution_count": 39,
     "metadata": {},
     "output_type": "execute_result"
    }
   ],
   "source": [
    "importance"
   ]
  },
  {
   "cell_type": "markdown",
   "metadata": {},
   "source": [
    "## Проверка на тесте"
   ]
  },
  {
   "cell_type": "code",
   "execution_count": 40,
   "metadata": {},
   "outputs": [],
   "source": [
    "X_test_2 = data_valid_L2.merge(user_item_features, on=['user_id','item_id'], how='outer')"
   ]
  },
  {
   "cell_type": "code",
   "execution_count": 41,
   "metadata": {
    "scrolled": true
   },
   "outputs": [
    {
     "data": {
      "text/plain": [
       "(975479, 36)"
      ]
     },
     "execution_count": 41,
     "metadata": {},
     "output_type": "execute_result"
    }
   ],
   "source": [
    "X_test_2.shape"
   ]
  },
  {
   "cell_type": "code",
   "execution_count": 42,
   "metadata": {},
   "outputs": [],
   "source": [
    "X_test_2 = nan_replacer(X_test_2)"
   ]
  },
  {
   "cell_type": "code",
   "execution_count": 43,
   "metadata": {
    "scrolled": true
   },
   "outputs": [
    {
     "name": "stdout",
     "output_type": "stream",
     "text": [
      "Memory usage of dataframe is 255.84 MB\n",
      "Memory usage after optimization is: 121.03 MB\n",
      "Decreased by 52.7%\n"
     ]
    }
   ],
   "source": [
    "X_test_2 = reduce_mem_usage(X_test_2)"
   ]
  },
  {
   "cell_type": "code",
   "execution_count": 44,
   "metadata": {
    "scrolled": true
   },
   "outputs": [],
   "source": [
    "X_test_2=X_test_2[X_train.columns]"
   ]
  },
  {
   "cell_type": "code",
   "execution_count": 45,
   "metadata": {},
   "outputs": [
    {
     "name": "stdout",
     "output_type": "stream",
     "text": [
      "<class 'pandas.core.frame.DataFrame'>\n",
      "RangeIndex: 975479 entries, 0 to 975478\n",
      "Data columns (total 12 columns):\n",
      " #   Column              Non-Null Count   Dtype   \n",
      "---  ------              --------------   -----   \n",
      " 0   purchase_2          975479 non-null  float32 \n",
      " 1   n_transactions      975479 non-null  float32 \n",
      " 2   popularity          975479 non-null  float32 \n",
      " 3   item_id             975479 non-null  int32   \n",
      " 4   commodity_category  975479 non-null  float32 \n",
      " 5   sub_commodity_desc  975479 non-null  category\n",
      " 6   n_items             975479 non-null  float32 \n",
      " 7   mean_check          975479 non-null  float32 \n",
      " 8   commodity_desc      975479 non-null  category\n",
      " 9   median_weekday      975479 non-null  float32 \n",
      " 10  median_sales_hour   975479 non-null  float32 \n",
      " 11  user_id             975479 non-null  int16   \n",
      "dtypes: category(2), float32(8), int16(1), int32(1)\n",
      "memory usage: 39.1 MB\n"
     ]
    }
   ],
   "source": [
    "X_test_2.info()"
   ]
  },
  {
   "cell_type": "code",
   "execution_count": 46,
   "metadata": {},
   "outputs": [],
   "source": [
    "test_pred_proba = cat.predict_proba(X_test_2)[:, 1]"
   ]
  },
  {
   "cell_type": "code",
   "execution_count": 47,
   "metadata": {},
   "outputs": [],
   "source": [
    "result_2_test = X_test_2[['user_id', 'item_id']]\n",
    "result_2_test['predictions'] = test_pred_proba\n",
    "\n",
    "result_2_test = result_2_test.groupby(['user_id', 'item_id'])['predictions'].median().reset_index()\n",
    "result_2_test = result_2_test.sort_values(['predictions'], ascending=False).groupby(['user_id']).head(25)\n",
    "result_2_test = result_2_test.groupby('user_id')['item_id'].unique().reset_index()\n",
    "result_2_test.columns = ['user_id', 'model_test']"
   ]
  },
  {
   "cell_type": "code",
   "execution_count": 48,
   "metadata": {},
   "outputs": [
    {
     "data": {
      "text/html": [
       "<div>\n",
       "<style scoped>\n",
       "    .dataframe tbody tr th:only-of-type {\n",
       "        vertical-align: middle;\n",
       "    }\n",
       "\n",
       "    .dataframe tbody tr th {\n",
       "        vertical-align: top;\n",
       "    }\n",
       "\n",
       "    .dataframe thead th {\n",
       "        text-align: right;\n",
       "    }\n",
       "</style>\n",
       "<table border=\"1\" class=\"dataframe\">\n",
       "  <thead>\n",
       "    <tr style=\"text-align: right;\">\n",
       "      <th></th>\n",
       "      <th>user_id</th>\n",
       "      <th>model_test</th>\n",
       "      <th>actual</th>\n",
       "    </tr>\n",
       "  </thead>\n",
       "  <tbody>\n",
       "    <tr>\n",
       "      <th>0</th>\n",
       "      <td>1</td>\n",
       "      <td>[1082185, 995242, 840361, 1005186, 865456, 820...</td>\n",
       "      <td>[829323, 835108, 836423, 851515, 875240, 87737...</td>\n",
       "    </tr>\n",
       "    <tr>\n",
       "      <th>1</th>\n",
       "      <td>2</td>\n",
       "      <td>[1082185, 1106523, 12263788, 994928, 990797, 9...</td>\n",
       "      <td>[895388, 8357614, 12301772, 821083, 828106, 83...</td>\n",
       "    </tr>\n",
       "    <tr>\n",
       "      <th>2</th>\n",
       "      <td>3</td>\n",
       "      <td>[1082185, 1005186, 1106523, 983584, 899624, 10...</td>\n",
       "      <td>[835476, 851057, 872021, 878302, 879948, 90963...</td>\n",
       "    </tr>\n",
       "    <tr>\n",
       "      <th>3</th>\n",
       "      <td>4</td>\n",
       "      <td>[883932, 990797, 1029743, 6773204, 6391541, 10...</td>\n",
       "      <td>[831063, 883932, 891423, 908283, 954966, 96222...</td>\n",
       "    </tr>\n",
       "    <tr>\n",
       "      <th>4</th>\n",
       "      <td>6</td>\n",
       "      <td>[1082185, 1024306, 981760, 962568, 845208, 995...</td>\n",
       "      <td>[850102, 897088, 940806, 1062782, 1078346, 103...</td>\n",
       "    </tr>\n",
       "    <tr>\n",
       "      <th>...</th>\n",
       "      <td>...</td>\n",
       "      <td>...</td>\n",
       "      <td>...</td>\n",
       "    </tr>\n",
       "    <tr>\n",
       "      <th>2192</th>\n",
       "      <td>2496</td>\n",
       "      <td>[842783, 1082185, 1106523, 981760, 840361, 883...</td>\n",
       "      <td>[824915, 854920, 861603, 881964, 883404, 89962...</td>\n",
       "    </tr>\n",
       "    <tr>\n",
       "      <th>2193</th>\n",
       "      <td>2497</td>\n",
       "      <td>[1029743, 1070820, 840361, 981760, 1082185, 83...</td>\n",
       "      <td>[857503, 861792, 896613, 1024306, 5592455, 820...</td>\n",
       "    </tr>\n",
       "    <tr>\n",
       "      <th>2194</th>\n",
       "      <td>2498</td>\n",
       "      <td>[1106523, 1070820, 1126899, 6533889, 13841744,...</td>\n",
       "      <td>[839243, 846652, 847302, 914190, 951197, 10086...</td>\n",
       "    </tr>\n",
       "    <tr>\n",
       "      <th>2195</th>\n",
       "      <td>2499</td>\n",
       "      <td>[1070820, 867188, 849843, 6534178, 1106523, 99...</td>\n",
       "      <td>[853354, 882308, 1115160, 826249, 830887, 8334...</td>\n",
       "    </tr>\n",
       "    <tr>\n",
       "      <th>2196</th>\n",
       "      <td>2500</td>\n",
       "      <td>[1082185, 6534178, 1058997, 1126899, 999999, 1...</td>\n",
       "      <td>[890882, 894511, 984211, 999858, 1024938, 1051...</td>\n",
       "    </tr>\n",
       "  </tbody>\n",
       "</table>\n",
       "<p>2197 rows × 3 columns</p>\n",
       "</div>"
      ],
      "text/plain": [
       "      user_id                                         model_test  \\\n",
       "0           1  [1082185, 995242, 840361, 1005186, 865456, 820...   \n",
       "1           2  [1082185, 1106523, 12263788, 994928, 990797, 9...   \n",
       "2           3  [1082185, 1005186, 1106523, 983584, 899624, 10...   \n",
       "3           4  [883932, 990797, 1029743, 6773204, 6391541, 10...   \n",
       "4           6  [1082185, 1024306, 981760, 962568, 845208, 995...   \n",
       "...       ...                                                ...   \n",
       "2192     2496  [842783, 1082185, 1106523, 981760, 840361, 883...   \n",
       "2193     2497  [1029743, 1070820, 840361, 981760, 1082185, 83...   \n",
       "2194     2498  [1106523, 1070820, 1126899, 6533889, 13841744,...   \n",
       "2195     2499  [1070820, 867188, 849843, 6534178, 1106523, 99...   \n",
       "2196     2500  [1082185, 6534178, 1058997, 1126899, 999999, 1...   \n",
       "\n",
       "                                                 actual  \n",
       "0     [829323, 835108, 836423, 851515, 875240, 87737...  \n",
       "1     [895388, 8357614, 12301772, 821083, 828106, 83...  \n",
       "2     [835476, 851057, 872021, 878302, 879948, 90963...  \n",
       "3     [831063, 883932, 891423, 908283, 954966, 96222...  \n",
       "4     [850102, 897088, 940806, 1062782, 1078346, 103...  \n",
       "...                                                 ...  \n",
       "2192  [824915, 854920, 861603, 881964, 883404, 89962...  \n",
       "2193  [857503, 861792, 896613, 1024306, 5592455, 820...  \n",
       "2194  [839243, 846652, 847302, 914190, 951197, 10086...  \n",
       "2195  [853354, 882308, 1115160, 826249, 830887, 8334...  \n",
       "2196  [890882, 894511, 984211, 999858, 1024938, 1051...  \n",
       "\n",
       "[2197 rows x 3 columns]"
      ]
     },
     "execution_count": 48,
     "metadata": {},
     "output_type": "execute_result"
    }
   ],
   "source": [
    "result_2_test.merge(valid_l2, on='user_id')"
   ]
  },
  {
   "cell_type": "code",
   "execution_count": 49,
   "metadata": {},
   "outputs": [],
   "source": [
    "result_2_test = result_2_test.merge(valid_l2, on='user_id')"
   ]
  },
  {
   "cell_type": "markdown",
   "metadata": {},
   "source": [
    "## Точность на тесте "
   ]
  },
  {
   "cell_type": "code",
   "execution_count": 50,
   "metadata": {},
   "outputs": [
    {
     "data": {
      "text/plain": [
       "0.3569412835685025"
      ]
     },
     "execution_count": 50,
     "metadata": {},
     "output_type": "execute_result"
    }
   ],
   "source": [
    "result_2_test.apply(lambda row: precision_at_k(row['model_test'], row['actual'],k=5), axis=1).mean()"
   ]
  },
  {
   "cell_type": "markdown",
   "metadata": {},
   "source": [
    "# Выводы\n",
    "Модель показала точность 35 %. Получить такую точность в основом помогло добавление признаков.\n",
    "Наиболее влиятельными из которых оказались \n",
    "* n_items - количество уникальных покупок\n",
    "* n_transactions - количество транзакций пользователя\n",
    "* purchase_2 - любимый товар пользователя\n",
    "* mean_check - средний чек\n",
    "* popularity - популярность товара\n",
    "\n",
    "Добавление признаков позволило улучшить точность модели на 12-15 % в сравнение с моделью без генерации признаков.\n",
    "Так же данные признаки улучшили эталонный результат \n",
    "https://github.com/alex-coch/GeekBrains-AI-faculty/blob/main/4term/Recommended%20systems/08-Course%20project/Course_project.ipynb  на 8 % 28 для ансабля из 2 бустингов и 35 % для 1 модели.\n",
    "\n",
    "Однако модель в большей мере предлагает пользователю что он и так возьмет (если обучить на всех item то точность на 5 рекомендациях будет порядка 100 %.\n",
    "Хорошей идей будет дополнительная модель которая определит для пользователя любимую категорию или item и будет искать  категории или item наиболее схожих обьектов ранжированых по полпулярности. Такая модель врятли покажет хорошую точность но в дополнении к 2х уровневой будет предлагать более оригинальные продукты \n"
   ]
  }
 ],
 "metadata": {
  "colab": {
   "name": "hw_webinar_6.ipynb",
   "provenance": []
  },
  "kernelspec": {
   "display_name": "Python 3 (ipykernel)",
   "language": "python",
   "name": "python3"
  },
  "language_info": {
   "codemirror_mode": {
    "name": "ipython",
    "version": 3
   },
   "file_extension": ".py",
   "mimetype": "text/x-python",
   "name": "python",
   "nbconvert_exporter": "python",
   "pygments_lexer": "ipython3",
   "version": "3.11.5"
  }
 },
 "nbformat": 4,
 "nbformat_minor": 1
}
