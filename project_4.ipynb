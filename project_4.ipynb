{
 "cells": [
  {
   "cell_type": "markdown",
   "metadata": {
    "id": "nMBdGcvjC4Ji"
   },
   "source": [
    "# Двухуровневые модели рекомендаций\n"
   ]
  },
  {
   "cell_type": "markdown",
   "metadata": {},
   "source": [
    "**Основное**  \n",
    "Данны данные о покупках 2500 пользователей в течении 95 недель так же есть характеристики пользователя и характеристики продукта.\n",
    "Задача разработать модель с\n",
    "- Целевая метрика precision@5 > 0.22"
   ]
  },
  {
   "cell_type": "code",
   "execution_count": 174,
   "metadata": {
    "id": "5Aur99NsC4Jm",
    "outputId": "9b9a338b-a52f-4253-9694-ac431b62eefc"
   },
   "outputs": [],
   "source": [
    "import pandas as pd\n",
    "import numpy as np\n",
    "import matplotlib.pyplot as plt\n",
    "%matplotlib inline\n",
    "\n",
    "# Для работы с матрицами\n",
    "from scipy.sparse import csr_matrix\n",
    "\n",
    "# Матричная факторизация\n",
    "from implicit.als import AlternatingLeastSquares\n",
    "from implicit import approximate_als\n",
    "from implicit.nearest_neighbours import ItemItemRecommender,  CosineRecommender\n",
    "\n",
    "# Модель второго уровня\n",
    "from catboost import CatBoostClassifier\n",
    "from utilis import prefilter_items, prefilter_items_v2\n",
    "from recomenders5 import MainRecommender\n",
    "from metrics import recall_at_k_mean, recall_at_k, precision_at_k, map_k_mean, NDCG_mean, ap_k\n",
    "from data_prepare import reduce_mem_usage, nan_replacer, feature_generator,user_feature_prepare, item_features_prepare\n",
    "from recomender9 import MainRecommender\n",
    "import warnings\n",
    "warnings.filterwarnings(\"ignore\")"
   ]
  },
  {
   "cell_type": "code",
   "execution_count": 175,
   "metadata": {},
   "outputs": [
    {
     "name": "stdout",
     "output_type": "stream",
     "text": [
      "The autoreload extension is already loaded. To reload it, use:\n",
      "  %reload_ext autoreload\n"
     ]
    }
   ],
   "source": [
    "%load_ext autoreload\n",
    "%autoreload 2"
   ]
  },
  {
   "cell_type": "code",
   "execution_count": 176,
   "metadata": {
    "id": "vso_erSdC4Jo",
    "outputId": "da20dbf1-3086-4fd6-ac92-f7653d7f9f71",
    "scrolled": false
   },
   "outputs": [],
   "source": [
    "data = pd.read_csv('retail_train.csv')\n",
    "#data = prefilter_items(data)\n",
    "\n",
    "item_features = pd.read_csv('product.csv')\n",
    "user_features = pd.read_csv('hh_demographic.csv')\n",
    "\n",
    "#column processing\n",
    "item_features.columns = [col.lower() for col in item_features.columns]\n",
    "user_features.columns = [col.lower() for col in user_features.columns]\n",
    "\n",
    "item_features.rename(columns={'product_id': 'item_id'}, inplace=True)\n",
    "user_features.rename(columns={'household_key': 'user_id'}, inplace=True)"
   ]
  },
  {
   "cell_type": "code",
   "execution_count": 177,
   "metadata": {},
   "outputs": [],
   "source": [
    "data = prefilter_items(data, take_n=10000)"
   ]
  },
  {
   "cell_type": "code",
   "execution_count": 178,
   "metadata": {},
   "outputs": [],
   "source": [
    "max_week = data['week_no'].max()\n",
    "condition_train = (data['week_no'] < max_week - 6)\n",
    "condition_valid = data['week_no'] >= max_week - 3\n",
    "condition_test = ((data['week_no'] >= max_week - 6) & (data['week_no'] < max_week - 3))\n",
    "                   \n",
    "data_train_L1 = data[condition_train]\n",
    "data_test_L1 = data[condition_test]\n",
    "\n",
    "data_train_L2 = data_test_L1.copy()\n",
    "data_valid_L2 = data[condition_valid]"
   ]
  },
  {
   "cell_type": "code",
   "execution_count": 179,
   "metadata": {
    "scrolled": true
   },
   "outputs": [
    {
     "data": {
      "text/plain": [
       "<bound method Series.unique of 2277416    92\n",
       "2277417    92\n",
       "2277418    92\n",
       "2277419    92\n",
       "2277420    92\n",
       "           ..\n",
       "2396799    95\n",
       "2396800    95\n",
       "2396801    95\n",
       "2396802    95\n",
       "2396803    95\n",
       "Name: week_no, Length: 118314, dtype: int64>"
      ]
     },
     "execution_count": 179,
     "metadata": {},
     "output_type": "execute_result"
    }
   ],
   "source": [
    "data_valid_L2['week_no'].unique"
   ]
  },
  {
   "cell_type": "code",
   "execution_count": 180,
   "metadata": {
    "scrolled": true
   },
   "outputs": [
    {
     "data": {
      "text/plain": [
       "<bound method Series.unique of 0           1\n",
       "1           1\n",
       "2           1\n",
       "3           1\n",
       "4           1\n",
       "           ..\n",
       "2193522    88\n",
       "2193523    88\n",
       "2193524    88\n",
       "2193525    88\n",
       "2193526    88\n",
       "Name: week_no, Length: 2193515, dtype: int64>"
      ]
     },
     "execution_count": 180,
     "metadata": {},
     "output_type": "execute_result"
    }
   ],
   "source": [
    "data_train_L1['week_no'].unique"
   ]
  },
  {
   "cell_type": "code",
   "execution_count": 181,
   "metadata": {},
   "outputs": [
    {
     "data": {
      "text/plain": [
       "<bound method Series.unique of 2191387    89\n",
       "2191388    89\n",
       "2191389    89\n",
       "2191390    89\n",
       "2191391    89\n",
       "           ..\n",
       "2282320    91\n",
       "2282321    91\n",
       "2282322    91\n",
       "2282323    91\n",
       "2282324    91\n",
       "Name: week_no, Length: 84975, dtype: int64>"
      ]
     },
     "execution_count": 181,
     "metadata": {},
     "output_type": "execute_result"
    }
   ],
   "source": [
    "data_test_L1['week_no'].unique"
   ]
  },
  {
   "cell_type": "code",
   "execution_count": 183,
   "metadata": {},
   "outputs": [],
   "source": [
    "data_l1_l2_val = pd.concat([data_valid_L2, data_test_L1], ignore_index = True)"
   ]
  },
  {
   "cell_type": "code",
   "execution_count": 184,
   "metadata": {
    "scrolled": true
   },
   "outputs": [
    {
     "data": {
      "text/html": [
       "<div>\n",
       "<style scoped>\n",
       "    .dataframe tbody tr th:only-of-type {\n",
       "        vertical-align: middle;\n",
       "    }\n",
       "\n",
       "    .dataframe tbody tr th {\n",
       "        vertical-align: top;\n",
       "    }\n",
       "\n",
       "    .dataframe thead th {\n",
       "        text-align: right;\n",
       "    }\n",
       "</style>\n",
       "<table border=\"1\" class=\"dataframe\">\n",
       "  <thead>\n",
       "    <tr style=\"text-align: right;\">\n",
       "      <th></th>\n",
       "      <th>user_id</th>\n",
       "      <th>actual</th>\n",
       "    </tr>\n",
       "  </thead>\n",
       "  <tbody>\n",
       "    <tr>\n",
       "      <th>0</th>\n",
       "      <td>1</td>\n",
       "      <td>[829323, 999999, 851515, 879280, 940947, 96816...</td>\n",
       "    </tr>\n",
       "    <tr>\n",
       "      <th>1</th>\n",
       "      <td>2</td>\n",
       "      <td>[999999, 821083, 828106, 830960, 833025, 83813...</td>\n",
       "    </tr>\n",
       "  </tbody>\n",
       "</table>\n",
       "</div>"
      ],
      "text/plain": [
       "   user_id                                             actual\n",
       "0        1  [829323, 999999, 851515, 879280, 940947, 96816...\n",
       "1        2  [999999, 821083, 828106, 830960, 833025, 83813..."
      ]
     },
     "execution_count": 184,
     "metadata": {},
     "output_type": "execute_result"
    }
   ],
   "source": [
    "result = data_test_L1.groupby('user_id')['item_id'].unique().reset_index()\n",
    "result.columns=['user_id', 'actual']\n",
    "result.head(2)"
   ]
  },
  {
   "cell_type": "code",
   "execution_count": 185,
   "metadata": {},
   "outputs": [],
   "source": [
    "result = result.loc[result['user_id']<=2499]"
   ]
  },
  {
   "cell_type": "code",
   "execution_count": 186,
   "metadata": {},
   "outputs": [],
   "source": [
    "from implicit.nearest_neighbours import BM25Recommender"
   ]
  },
  {
   "cell_type": "code",
   "execution_count": 187,
   "metadata": {},
   "outputs": [
    {
     "data": {
      "text/plain": [
       "(2499, 10000)"
      ]
     },
     "execution_count": 187,
     "metadata": {},
     "output_type": "execute_result"
    }
   ],
   "source": [
    "user_item_matrix = pd.pivot_table(data_train_L1, \n",
    "                                  index='user_id', columns='item_id', \n",
    "                                  values='quantity',\n",
    "                                  aggfunc='count', \n",
    "                                  fill_value=0\n",
    "                                 )\n",
    "\n",
    "user_item_matrix[user_item_matrix > 0] = 1 # так как в итоге хотим предсказать \n",
    "user_item_matrix = user_item_matrix.astype(float) # необходимый тип матрицы для implicit\n",
    "\n",
    "# переведем в формат saprse matrix\n",
    "sparse_user_item = csr_matrix(user_item_matrix).tocsr()\n",
    "\n",
    "user_item_matrix.shape"
   ]
  },
  {
   "cell_type": "code",
   "execution_count": 188,
   "metadata": {},
   "outputs": [],
   "source": [
    "userids = user_item_matrix.index.values\n",
    "itemids = user_item_matrix.columns.values\n",
    "\n",
    "matrix_userids = np.arange(len(userids))\n",
    "matrix_itemids = np.arange(len(itemids))\n",
    "\n",
    "id_to_itemid = dict(zip(matrix_itemids, itemids))\n",
    "id_to_userid = dict(zip(matrix_userids, userids))\n",
    "\n",
    "itemid_to_id = dict(zip(itemids, matrix_itemids))\n",
    "userid_to_id = dict(zip(userids, matrix_userids))"
   ]
  },
  {
   "cell_type": "code",
   "execution_count": 189,
   "metadata": {},
   "outputs": [
    {
     "data": {
      "application/vnd.jupyter.widget-view+json": {
       "model_id": "8fbd99d0018b4875bf6ede3dac9a794e",
       "version_major": 2,
       "version_minor": 0
      },
      "text/plain": [
       "  0%|          | 0/10000 [00:00<?, ?it/s]"
      ]
     },
     "metadata": {},
     "output_type": "display_data"
    },
    {
     "name": "stdout",
     "output_type": "stream",
     "text": [
      "CPU times: total: 6.06 s\n",
      "Wall time: 1.98 s\n"
     ]
    }
   ],
   "source": [
    "%%time\n",
    "\n",
    "model = BM25Recommender(K=200, num_threads=4) # K - кол-во билжайших соседей\n",
    "\n",
    "model.fit(csr_matrix(user_item_matrix).tocsr(), \n",
    "          show_progress=True)\n"
   ]
  },
  {
   "cell_type": "code",
   "execution_count": 190,
   "metadata": {},
   "outputs": [
    {
     "name": "stdout",
     "output_type": "stream",
     "text": [
      "CPU times: total: 1.91 s\n",
      "Wall time: 1.93 s\n"
     ]
    }
   ],
   "source": [
    "%%time\n",
    "bm25 = model.recommend(userid=userids, user_items=csr_matrix(user_item_matrix).tocsr(),   # на вход user-item matrix\n",
    "                                    N=150, \n",
    "                                    filter_already_liked_items=False, \n",
    "                                    filter_items=[itemid_to_id[999999]], \n",
    "                                    recalculate_user=False)[0]"
   ]
  },
  {
   "cell_type": "code",
   "execution_count": 191,
   "metadata": {},
   "outputs": [],
   "source": [
    "def id_item_to_real_id_item(recs, k):\n",
    "    recsals = np.array([],dtype='i')\n",
    "    for row in recs:\n",
    "        a = [id_to_itemid[el] for el in row]\n",
    "        recsals = np.append(recsals,a)\n",
    "    recsals = recsals.reshape(-1,k)    \n",
    "    return recsals"
   ]
  },
  {
   "cell_type": "code",
   "execution_count": 192,
   "metadata": {},
   "outputs": [],
   "source": [
    "bm25_5_conv = id_item_to_real_id_item(bm25, 150)\n",
    "bm25_150_rec = pd.DataFrame({'user_id':userids, 'bm25':bm25_5_conv.tolist()})\n",
    "result = result.merge(bm25_150_rec, on='user_id')"
   ]
  },
  {
   "cell_type": "code",
   "execution_count": 193,
   "metadata": {},
   "outputs": [
    {
     "data": {
      "text/plain": [
       "0.229849337660866"
      ]
     },
     "execution_count": 193,
     "metadata": {},
     "output_type": "execute_result"
    }
   ],
   "source": [
    "result.apply(lambda row: recall_at_k(row['bm25'], row['actual'], k=200), axis=1).mean()"
   ]
  },
  {
   "cell_type": "markdown",
   "metadata": {},
   "source": [
    "# Генерация признаков"
   ]
  },
  {
   "cell_type": "code",
   "execution_count": 195,
   "metadata": {},
   "outputs": [],
   "source": [
    "user_feature = user_feature_prepare(user_features)"
   ]
  },
  {
   "cell_type": "code",
   "execution_count": 196,
   "metadata": {},
   "outputs": [],
   "source": [
    "item_features = item_features_prepare(item_features)"
   ]
  },
  {
   "cell_type": "code",
   "execution_count": 197,
   "metadata": {
    "scrolled": true
   },
   "outputs": [
    {
     "name": "stdout",
     "output_type": "stream",
     "text": [
      "Добавлены следующие признаки:\n",
      "время покупки -hour\n",
      "день недели совершения транзакции-median_weekday\n",
      "кол-во транзакций покупок пользователем-n_transactions\n",
      "кол-во уникальных покупок пользователем-n_items\n",
      "средний чек пользвателя - mean_check\n",
      "средний чек на размер семьи-mean_ckeck_per_household_size\n",
      "популярность товара-popularity\n",
      "любимые товары пользователя-purchase_2,purchase_3,purchase_4\n"
     ]
    }
   ],
   "source": [
    "user_item_features = feature_generator(data_train_L1,user_feature, item_features)"
   ]
  },
  {
   "cell_type": "code",
   "execution_count": 198,
   "metadata": {
    "scrolled": true
   },
   "outputs": [
    {
     "data": {
      "text/html": [
       "<div>\n",
       "<style scoped>\n",
       "    .dataframe tbody tr th:only-of-type {\n",
       "        vertical-align: middle;\n",
       "    }\n",
       "\n",
       "    .dataframe tbody tr th {\n",
       "        vertical-align: top;\n",
       "    }\n",
       "\n",
       "    .dataframe thead th {\n",
       "        text-align: right;\n",
       "    }\n",
       "</style>\n",
       "<table border=\"1\" class=\"dataframe\">\n",
       "  <thead>\n",
       "    <tr style=\"text-align: right;\">\n",
       "      <th></th>\n",
       "      <th>user_id</th>\n",
       "      <th>item_id</th>\n",
       "      <th>median_sales_hour</th>\n",
       "      <th>median_weekday</th>\n",
       "      <th>n_items</th>\n",
       "      <th>purchase_2</th>\n",
       "      <th>purchase_3</th>\n",
       "      <th>purchase_4</th>\n",
       "      <th>mean_check</th>\n",
       "      <th>n_transactions</th>\n",
       "      <th>...</th>\n",
       "      <th>household_size_desc</th>\n",
       "      <th>kid_category_desc</th>\n",
       "      <th>mean_ckeck_per_household_size</th>\n",
       "      <th>manufacturer</th>\n",
       "      <th>department</th>\n",
       "      <th>brand</th>\n",
       "      <th>commodity_desc</th>\n",
       "      <th>sub_commodity_desc</th>\n",
       "      <th>curr_size_of_product</th>\n",
       "      <th>commodity_category</th>\n",
       "    </tr>\n",
       "  </thead>\n",
       "  <tbody>\n",
       "    <tr>\n",
       "      <th>0</th>\n",
       "      <td>1</td>\n",
       "      <td>820165</td>\n",
       "      <td>12.0</td>\n",
       "      <td>1.5</td>\n",
       "      <td>359</td>\n",
       "      <td>856942.0</td>\n",
       "      <td>1082185.0</td>\n",
       "      <td>995242.0</td>\n",
       "      <td>50.174167</td>\n",
       "      <td>1449</td>\n",
       "      <td>...</td>\n",
       "      <td>2.0</td>\n",
       "      <td>0</td>\n",
       "      <td>25.087083</td>\n",
       "      <td>2.0</td>\n",
       "      <td>PRODUCE</td>\n",
       "      <td>1.0</td>\n",
       "      <td>CITRUS</td>\n",
       "      <td>ORANGES NAVELS ALL</td>\n",
       "      <td></td>\n",
       "      <td>166.0</td>\n",
       "    </tr>\n",
       "    <tr>\n",
       "      <th>1</th>\n",
       "      <td>1</td>\n",
       "      <td>823721</td>\n",
       "      <td>14.0</td>\n",
       "      <td>4.0</td>\n",
       "      <td>359</td>\n",
       "      <td>856942.0</td>\n",
       "      <td>1082185.0</td>\n",
       "      <td>995242.0</td>\n",
       "      <td>50.174167</td>\n",
       "      <td>1449</td>\n",
       "      <td>...</td>\n",
       "      <td>2.0</td>\n",
       "      <td>0</td>\n",
       "      <td>25.087083</td>\n",
       "      <td>317.0</td>\n",
       "      <td>GROCERY</td>\n",
       "      <td>1.0</td>\n",
       "      <td>CHEESE</td>\n",
       "      <td>GRATED CHEESE</td>\n",
       "      <td>8 OZ</td>\n",
       "      <td>14.0</td>\n",
       "    </tr>\n",
       "    <tr>\n",
       "      <th>2</th>\n",
       "      <td>1</td>\n",
       "      <td>823990</td>\n",
       "      <td>15.0</td>\n",
       "      <td>6.0</td>\n",
       "      <td>359</td>\n",
       "      <td>856942.0</td>\n",
       "      <td>1082185.0</td>\n",
       "      <td>995242.0</td>\n",
       "      <td>50.174167</td>\n",
       "      <td>1449</td>\n",
       "      <td>...</td>\n",
       "      <td>2.0</td>\n",
       "      <td>0</td>\n",
       "      <td>25.087083</td>\n",
       "      <td>2929.0</td>\n",
       "      <td>MEAT</td>\n",
       "      <td>1.0</td>\n",
       "      <td>BEEF</td>\n",
       "      <td>CHOICE BEEF</td>\n",
       "      <td></td>\n",
       "      <td>13.0</td>\n",
       "    </tr>\n",
       "    <tr>\n",
       "      <th>3</th>\n",
       "      <td>1</td>\n",
       "      <td>825123</td>\n",
       "      <td>15.0</td>\n",
       "      <td>4.0</td>\n",
       "      <td>359</td>\n",
       "      <td>856942.0</td>\n",
       "      <td>1082185.0</td>\n",
       "      <td>995242.0</td>\n",
       "      <td>50.174167</td>\n",
       "      <td>1449</td>\n",
       "      <td>...</td>\n",
       "      <td>2.0</td>\n",
       "      <td>0</td>\n",
       "      <td>25.087083</td>\n",
       "      <td>1179.0</td>\n",
       "      <td>GROCERY</td>\n",
       "      <td>1.0</td>\n",
       "      <td>SALD DRSNG/SNDWCH SPRD</td>\n",
       "      <td>SEMI-SOLID SALAD DRESSING MAY</td>\n",
       "      <td>30 OZ</td>\n",
       "      <td>34.0</td>\n",
       "    </tr>\n",
       "    <tr>\n",
       "      <th>4</th>\n",
       "      <td>1</td>\n",
       "      <td>826695</td>\n",
       "      <td>15.5</td>\n",
       "      <td>1.5</td>\n",
       "      <td>359</td>\n",
       "      <td>856942.0</td>\n",
       "      <td>1082185.0</td>\n",
       "      <td>995242.0</td>\n",
       "      <td>50.174167</td>\n",
       "      <td>1449</td>\n",
       "      <td>...</td>\n",
       "      <td>2.0</td>\n",
       "      <td>0</td>\n",
       "      <td>25.087083</td>\n",
       "      <td>135.0</td>\n",
       "      <td>GROCERY</td>\n",
       "      <td>1.0</td>\n",
       "      <td>FRZN POTATOES</td>\n",
       "      <td>FRZN FRENCH FRIES</td>\n",
       "      <td>20 OZ</td>\n",
       "      <td>170.0</td>\n",
       "    </tr>\n",
       "  </tbody>\n",
       "</table>\n",
       "<p>5 rows × 26 columns</p>\n",
       "</div>"
      ],
      "text/plain": [
       "   user_id  item_id  median_sales_hour  median_weekday  n_items  purchase_2  \\\n",
       "0        1   820165               12.0             1.5      359    856942.0   \n",
       "1        1   823721               14.0             4.0      359    856942.0   \n",
       "2        1   823990               15.0             6.0      359    856942.0   \n",
       "3        1   825123               15.0             4.0      359    856942.0   \n",
       "4        1   826695               15.5             1.5      359    856942.0   \n",
       "\n",
       "   purchase_3  purchase_4  mean_check  n_transactions  ...  \\\n",
       "0   1082185.0    995242.0   50.174167            1449  ...   \n",
       "1   1082185.0    995242.0   50.174167            1449  ...   \n",
       "2   1082185.0    995242.0   50.174167            1449  ...   \n",
       "3   1082185.0    995242.0   50.174167            1449  ...   \n",
       "4   1082185.0    995242.0   50.174167            1449  ...   \n",
       "\n",
       "   household_size_desc  kid_category_desc  mean_ckeck_per_household_size  \\\n",
       "0                  2.0                  0                      25.087083   \n",
       "1                  2.0                  0                      25.087083   \n",
       "2                  2.0                  0                      25.087083   \n",
       "3                  2.0                  0                      25.087083   \n",
       "4                  2.0                  0                      25.087083   \n",
       "\n",
       "   manufacturer  department  brand          commodity_desc  \\\n",
       "0           2.0     PRODUCE    1.0                  CITRUS   \n",
       "1         317.0     GROCERY    1.0                  CHEESE   \n",
       "2        2929.0        MEAT    1.0                    BEEF   \n",
       "3        1179.0     GROCERY    1.0  SALD DRSNG/SNDWCH SPRD   \n",
       "4         135.0     GROCERY    1.0           FRZN POTATOES   \n",
       "\n",
       "              sub_commodity_desc  curr_size_of_product  commodity_category  \n",
       "0             ORANGES NAVELS ALL                                     166.0  \n",
       "1                  GRATED CHEESE                  8 OZ                14.0  \n",
       "2                    CHOICE BEEF                                      13.0  \n",
       "3  SEMI-SOLID SALAD DRESSING MAY                 30 OZ                34.0  \n",
       "4              FRZN FRENCH FRIES                 20 OZ               170.0  \n",
       "\n",
       "[5 rows x 26 columns]"
      ]
     },
     "execution_count": 198,
     "metadata": {},
     "output_type": "execute_result"
    }
   ],
   "source": [
    "user_item_features.head(5)"
   ]
  },
  {
   "cell_type": "markdown",
   "metadata": {},
   "source": [
    "# Подготовка к уровню 2"
   ]
  },
  {
   "cell_type": "markdown",
   "metadata": {},
   "source": [
    "### Слияние USER и IITEM + добавление flag 0 если не покупал 1 если купил"
   ]
  },
  {
   "cell_type": "code",
   "execution_count": 199,
   "metadata": {},
   "outputs": [],
   "source": [
    "users_lvl_2 = pd.DataFrame(data_train_L2['user_id'].unique())\n",
    "users_lvl_2.columns = ['user_id']\n",
    "users_lvl_2 = users_lvl_2.loc[users_lvl_2['user_id']<=2499] # конец не попал в обучение поэтому и предсказать не сможем для юсеров выше\n",
    "# Пока только warm start\n",
    "train_users = data_train_L1['user_id'].unique()\n",
    "users_lvl_2 = users_lvl_2[users_lvl_2['user_id'].isin(train_users)] #выбрали только тех пользователей что были в 1й обучающей выборке\n",
    "#Обучение 1 го уровня и создание кандидатов\n",
    "#users_lvl_2['candidates'] = users_lvl_2['user_id'].apply(lambda x:model.get_item_recommendations(x, N=200))"
   ]
  },
  {
   "cell_type": "code",
   "execution_count": 200,
   "metadata": {
    "scrolled": true
   },
   "outputs": [],
   "source": [
    "users_lvl_2 = users_lvl_2.merge(bm25_150_rec, on='user_id', how='left')\n",
    "users_lvl_2.columns = ['user_id', 'candidates']"
   ]
  },
  {
   "cell_type": "code",
   "execution_count": 201,
   "metadata": {
    "scrolled": true
   },
   "outputs": [
    {
     "data": {
      "text/html": [
       "<div>\n",
       "<style scoped>\n",
       "    .dataframe tbody tr th:only-of-type {\n",
       "        vertical-align: middle;\n",
       "    }\n",
       "\n",
       "    .dataframe tbody tr th {\n",
       "        vertical-align: top;\n",
       "    }\n",
       "\n",
       "    .dataframe thead th {\n",
       "        text-align: right;\n",
       "    }\n",
       "</style>\n",
       "<table border=\"1\" class=\"dataframe\">\n",
       "  <thead>\n",
       "    <tr style=\"text-align: right;\">\n",
       "      <th></th>\n",
       "      <th>user_id</th>\n",
       "      <th>candidates</th>\n",
       "    </tr>\n",
       "  </thead>\n",
       "  <tbody>\n",
       "    <tr>\n",
       "      <th>0</th>\n",
       "      <td>84</td>\n",
       "      <td>[1062966, 1043590, 952317, 1080414, 938700, 10...</td>\n",
       "    </tr>\n",
       "    <tr>\n",
       "      <th>1</th>\n",
       "      <td>1753</td>\n",
       "      <td>[1044078, 1096036, 1092026, 1085604, 883404, 9...</td>\n",
       "    </tr>\n",
       "    <tr>\n",
       "      <th>2</th>\n",
       "      <td>2120</td>\n",
       "      <td>[480014, 1058997, 1126899, 1082185, 1029743, 9...</td>\n",
       "    </tr>\n",
       "  </tbody>\n",
       "</table>\n",
       "</div>"
      ],
      "text/plain": [
       "   user_id                                         candidates\n",
       "0       84  [1062966, 1043590, 952317, 1080414, 938700, 10...\n",
       "1     1753  [1044078, 1096036, 1092026, 1085604, 883404, 9...\n",
       "2     2120  [480014, 1058997, 1126899, 1082185, 1029743, 9..."
      ]
     },
     "execution_count": 201,
     "metadata": {},
     "output_type": "execute_result"
    }
   ],
   "source": [
    "users_lvl_2.head(3)"
   ]
  },
  {
   "cell_type": "code",
   "execution_count": 202,
   "metadata": {
    "scrolled": false
   },
   "outputs": [
    {
     "data": {
      "text/html": [
       "<div>\n",
       "<style scoped>\n",
       "    .dataframe tbody tr th:only-of-type {\n",
       "        vertical-align: middle;\n",
       "    }\n",
       "\n",
       "    .dataframe tbody tr th {\n",
       "        vertical-align: top;\n",
       "    }\n",
       "\n",
       "    .dataframe thead th {\n",
       "        text-align: right;\n",
       "    }\n",
       "</style>\n",
       "<table border=\"1\" class=\"dataframe\">\n",
       "  <thead>\n",
       "    <tr style=\"text-align: right;\">\n",
       "      <th></th>\n",
       "      <th>user_id</th>\n",
       "      <th>item_id</th>\n",
       "      <th>flag</th>\n",
       "    </tr>\n",
       "  </thead>\n",
       "  <tbody>\n",
       "    <tr>\n",
       "      <th>0</th>\n",
       "      <td>84</td>\n",
       "      <td>1062966</td>\n",
       "      <td>1</td>\n",
       "    </tr>\n",
       "    <tr>\n",
       "      <th>0</th>\n",
       "      <td>84</td>\n",
       "      <td>1043590</td>\n",
       "      <td>1</td>\n",
       "    </tr>\n",
       "    <tr>\n",
       "      <th>0</th>\n",
       "      <td>84</td>\n",
       "      <td>952317</td>\n",
       "      <td>1</td>\n",
       "    </tr>\n",
       "  </tbody>\n",
       "</table>\n",
       "</div>"
      ],
      "text/plain": [
       "   user_id  item_id  flag\n",
       "0       84  1062966     1\n",
       "0       84  1043590     1\n",
       "0       84   952317     1"
      ]
     },
     "execution_count": 202,
     "metadata": {},
     "output_type": "execute_result"
    }
   ],
   "source": [
    "# склеивание каждого el из candidates с user_id\n",
    "s = users_lvl_2.apply(lambda x: pd.Series(x['candidates']), axis=1).stack().reset_index(level=1, drop=True)\n",
    "s.name = 'item_id'\n",
    "users_lvl_2 = users_lvl_2.drop('candidates', axis=1).join(s)\n",
    "users_lvl_2['flag'] = 1 #пока метка у всех 1\n",
    "users_lvl_2.head(3)"
   ]
  },
  {
   "cell_type": "code",
   "execution_count": 203,
   "metadata": {},
   "outputs": [
    {
     "data": {
      "text/html": [
       "<div>\n",
       "<style scoped>\n",
       "    .dataframe tbody tr th:only-of-type {\n",
       "        vertical-align: middle;\n",
       "    }\n",
       "\n",
       "    .dataframe tbody tr th {\n",
       "        vertical-align: top;\n",
       "    }\n",
       "\n",
       "    .dataframe thead th {\n",
       "        text-align: right;\n",
       "    }\n",
       "</style>\n",
       "<table border=\"1\" class=\"dataframe\">\n",
       "  <thead>\n",
       "    <tr style=\"text-align: right;\">\n",
       "      <th></th>\n",
       "      <th>user_id</th>\n",
       "      <th>item_id</th>\n",
       "      <th>target</th>\n",
       "    </tr>\n",
       "  </thead>\n",
       "  <tbody>\n",
       "    <tr>\n",
       "      <th>0</th>\n",
       "      <td>84</td>\n",
       "      <td>1062966</td>\n",
       "      <td>0.0</td>\n",
       "    </tr>\n",
       "    <tr>\n",
       "      <th>1</th>\n",
       "      <td>84</td>\n",
       "      <td>1043590</td>\n",
       "      <td>1.0</td>\n",
       "    </tr>\n",
       "    <tr>\n",
       "      <th>2</th>\n",
       "      <td>84</td>\n",
       "      <td>952317</td>\n",
       "      <td>0.0</td>\n",
       "    </tr>\n",
       "  </tbody>\n",
       "</table>\n",
       "</div>"
      ],
      "text/plain": [
       "   user_id  item_id  target\n",
       "0       84  1062966     0.0\n",
       "1       84  1043590     1.0\n",
       "2       84   952317     0.0"
      ]
     },
     "execution_count": 203,
     "metadata": {},
     "output_type": "execute_result"
    }
   ],
   "source": [
    "targets_lvl_2 = data_train_L2[['user_id', 'item_id']].copy()\n",
    "targets_lvl_2['target'] = 1  # тут только покупки \n",
    "targets_lvl_2 = users_lvl_2.merge(targets_lvl_2, on=['user_id', 'item_id'], how='left')\n",
    "targets_lvl_2['target'].fillna(0, inplace= True)\n",
    "targets_lvl_2.drop('flag', axis=1, inplace=True)\n",
    "targets_lvl_2.head(3)"
   ]
  },
  {
   "cell_type": "code",
   "execution_count": 204,
   "metadata": {},
   "outputs": [
    {
     "data": {
      "text/plain": [
       "(286065, 3)"
      ]
     },
     "execution_count": 204,
     "metadata": {},
     "output_type": "execute_result"
    }
   ],
   "source": [
    "targets_lvl_2.shape"
   ]
  },
  {
   "cell_type": "markdown",
   "metadata": {},
   "source": [
    "# Добавление признаков на уровень 2"
   ]
  },
  {
   "cell_type": "code",
   "execution_count": 205,
   "metadata": {
    "scrolled": false
   },
   "outputs": [
    {
     "data": {
      "text/html": [
       "<div>\n",
       "<style scoped>\n",
       "    .dataframe tbody tr th:only-of-type {\n",
       "        vertical-align: middle;\n",
       "    }\n",
       "\n",
       "    .dataframe tbody tr th {\n",
       "        vertical-align: top;\n",
       "    }\n",
       "\n",
       "    .dataframe thead th {\n",
       "        text-align: right;\n",
       "    }\n",
       "</style>\n",
       "<table border=\"1\" class=\"dataframe\">\n",
       "  <thead>\n",
       "    <tr style=\"text-align: right;\">\n",
       "      <th></th>\n",
       "      <th>user_id</th>\n",
       "      <th>item_id</th>\n",
       "      <th>target</th>\n",
       "      <th>median_sales_hour</th>\n",
       "      <th>median_weekday</th>\n",
       "      <th>n_items</th>\n",
       "      <th>purchase_2</th>\n",
       "      <th>purchase_3</th>\n",
       "      <th>purchase_4</th>\n",
       "      <th>mean_check</th>\n",
       "      <th>...</th>\n",
       "      <th>household_size_desc</th>\n",
       "      <th>kid_category_desc</th>\n",
       "      <th>mean_ckeck_per_household_size</th>\n",
       "      <th>manufacturer</th>\n",
       "      <th>department</th>\n",
       "      <th>brand</th>\n",
       "      <th>commodity_desc</th>\n",
       "      <th>sub_commodity_desc</th>\n",
       "      <th>curr_size_of_product</th>\n",
       "      <th>commodity_category</th>\n",
       "    </tr>\n",
       "  </thead>\n",
       "  <tbody>\n",
       "    <tr>\n",
       "      <th>0</th>\n",
       "      <td>84</td>\n",
       "      <td>1062966</td>\n",
       "      <td>0.0</td>\n",
       "      <td>16.0</td>\n",
       "      <td>5.0</td>\n",
       "      <td>170.0</td>\n",
       "      <td>903529.0</td>\n",
       "      <td>1080414.0</td>\n",
       "      <td>920025.0</td>\n",
       "      <td>23.707907</td>\n",
       "      <td>...</td>\n",
       "      <td>NaN</td>\n",
       "      <td>NaN</td>\n",
       "      <td>NaN</td>\n",
       "      <td>1425.0</td>\n",
       "      <td>MEAT-PCKGD</td>\n",
       "      <td>1.0</td>\n",
       "      <td>HOT DOGS</td>\n",
       "      <td>ECONOMY - MEAT</td>\n",
       "      <td>16 OZ</td>\n",
       "      <td>152.0</td>\n",
       "    </tr>\n",
       "    <tr>\n",
       "      <th>1</th>\n",
       "      <td>84</td>\n",
       "      <td>1043590</td>\n",
       "      <td>1.0</td>\n",
       "      <td>4.0</td>\n",
       "      <td>0.0</td>\n",
       "      <td>170.0</td>\n",
       "      <td>903529.0</td>\n",
       "      <td>1080414.0</td>\n",
       "      <td>920025.0</td>\n",
       "      <td>23.707907</td>\n",
       "      <td>...</td>\n",
       "      <td>NaN</td>\n",
       "      <td>NaN</td>\n",
       "      <td>NaN</td>\n",
       "      <td>69.0</td>\n",
       "      <td>GROCERY</td>\n",
       "      <td>0.0</td>\n",
       "      <td>SHORTENING/OIL</td>\n",
       "      <td>VEGETABLE/SALAD OIL</td>\n",
       "      <td>48 OZ</td>\n",
       "      <td>114.0</td>\n",
       "    </tr>\n",
       "    <tr>\n",
       "      <th>2</th>\n",
       "      <td>84</td>\n",
       "      <td>952317</td>\n",
       "      <td>0.0</td>\n",
       "      <td>0.0</td>\n",
       "      <td>1.0</td>\n",
       "      <td>170.0</td>\n",
       "      <td>903529.0</td>\n",
       "      <td>1080414.0</td>\n",
       "      <td>920025.0</td>\n",
       "      <td>23.707907</td>\n",
       "      <td>...</td>\n",
       "      <td>NaN</td>\n",
       "      <td>NaN</td>\n",
       "      <td>NaN</td>\n",
       "      <td>418.0</td>\n",
       "      <td>GROCERY</td>\n",
       "      <td>1.0</td>\n",
       "      <td>BAKED SWEET GOODS</td>\n",
       "      <td>SNACK CAKE - MULTI PACK</td>\n",
       "      <td>13 OZ</td>\n",
       "      <td>32.0</td>\n",
       "    </tr>\n",
       "    <tr>\n",
       "      <th>3</th>\n",
       "      <td>84</td>\n",
       "      <td>1080414</td>\n",
       "      <td>1.0</td>\n",
       "      <td>0.0</td>\n",
       "      <td>3.0</td>\n",
       "      <td>170.0</td>\n",
       "      <td>903529.0</td>\n",
       "      <td>1080414.0</td>\n",
       "      <td>920025.0</td>\n",
       "      <td>23.707907</td>\n",
       "      <td>...</td>\n",
       "      <td>NaN</td>\n",
       "      <td>NaN</td>\n",
       "      <td>NaN</td>\n",
       "      <td>693.0</td>\n",
       "      <td>DRUG GM</td>\n",
       "      <td>1.0</td>\n",
       "      <td>CANDY - CHECKLANE</td>\n",
       "      <td>CANDY BARS (SINGLES)(INCLUDING</td>\n",
       "      <td>1.6 OZ</td>\n",
       "      <td>47.0</td>\n",
       "    </tr>\n",
       "  </tbody>\n",
       "</table>\n",
       "<p>4 rows × 27 columns</p>\n",
       "</div>"
      ],
      "text/plain": [
       "   user_id  item_id  target  median_sales_hour  median_weekday  n_items  \\\n",
       "0       84  1062966     0.0               16.0             5.0    170.0   \n",
       "1       84  1043590     1.0                4.0             0.0    170.0   \n",
       "2       84   952317     0.0                0.0             1.0    170.0   \n",
       "3       84  1080414     1.0                0.0             3.0    170.0   \n",
       "\n",
       "   purchase_2  purchase_3  purchase_4  mean_check  ...  household_size_desc  \\\n",
       "0    903529.0   1080414.0    920025.0   23.707907  ...                  NaN   \n",
       "1    903529.0   1080414.0    920025.0   23.707907  ...                  NaN   \n",
       "2    903529.0   1080414.0    920025.0   23.707907  ...                  NaN   \n",
       "3    903529.0   1080414.0    920025.0   23.707907  ...                  NaN   \n",
       "\n",
       "   kid_category_desc  mean_ckeck_per_household_size  manufacturer  department  \\\n",
       "0                NaN                            NaN        1425.0  MEAT-PCKGD   \n",
       "1                NaN                            NaN          69.0     GROCERY   \n",
       "2                NaN                            NaN         418.0     GROCERY   \n",
       "3                NaN                            NaN         693.0     DRUG GM   \n",
       "\n",
       "   brand     commodity_desc              sub_commodity_desc  \\\n",
       "0    1.0           HOT DOGS                  ECONOMY - MEAT   \n",
       "1    0.0     SHORTENING/OIL             VEGETABLE/SALAD OIL   \n",
       "2    1.0  BAKED SWEET GOODS         SNACK CAKE - MULTI PACK   \n",
       "3    1.0  CANDY - CHECKLANE  CANDY BARS (SINGLES)(INCLUDING   \n",
       "\n",
       "  curr_size_of_product  commodity_category  \n",
       "0                16 OZ               152.0  \n",
       "1                48 OZ               114.0  \n",
       "2                13 OZ                32.0  \n",
       "3               1.6 OZ                47.0  \n",
       "\n",
       "[4 rows x 27 columns]"
      ]
     },
     "execution_count": 205,
     "metadata": {},
     "output_type": "execute_result"
    }
   ],
   "source": [
    "targets_lvl_2 = targets_lvl_2.merge(user_item_features, on=['user_id','item_id'], how='left')\n",
    "targets_lvl_2.head(4)"
   ]
  },
  {
   "cell_type": "code",
   "execution_count": 206,
   "metadata": {},
   "outputs": [
    {
     "data": {
      "text/plain": [
       "(286065, 27)"
      ]
     },
     "execution_count": 206,
     "metadata": {},
     "output_type": "execute_result"
    }
   ],
   "source": [
    "targets_lvl_2.shape"
   ]
  },
  {
   "cell_type": "markdown",
   "metadata": {},
   "source": [
    "## Обработка признаков товаров"
   ]
  },
  {
   "cell_type": "code",
   "execution_count": 207,
   "metadata": {
    "scrolled": true
   },
   "outputs": [
    {
     "name": "stdout",
     "output_type": "stream",
     "text": [
      "<class 'pandas.core.frame.DataFrame'>\n",
      "RangeIndex: 286065 entries, 0 to 286064\n",
      "Data columns (total 27 columns):\n",
      " #   Column                         Non-Null Count   Dtype   \n",
      "---  ------                         --------------   -----   \n",
      " 0   user_id                        286065 non-null  int64   \n",
      " 1   item_id                        286065 non-null  int64   \n",
      " 2   target                         286065 non-null  float64 \n",
      " 3   median_sales_hour              123821 non-null  float64 \n",
      " 4   median_weekday                 123821 non-null  float64 \n",
      " 5   n_items                        123821 non-null  float64 \n",
      " 6   purchase_2                     123820 non-null  float64 \n",
      " 7   purchase_3                     123820 non-null  float64 \n",
      " 8   purchase_4                     123820 non-null  float64 \n",
      " 9   mean_check                     123821 non-null  float64 \n",
      " 10  n_transactions                 123821 non-null  float64 \n",
      " 11  popularity                     123821 non-null  float64 \n",
      " 12  age_desc                       59641 non-null   float64 \n",
      " 13  marital_status_code            59641 non-null   float64 \n",
      " 14  income_desc                    59641 non-null   float64 \n",
      " 15  homeowner_desc                 59641 non-null   float64 \n",
      " 16  hh_comp_desc                   59641 non-null   float64 \n",
      " 17  household_size_desc            59641 non-null   float64 \n",
      " 18  kid_category_desc              59641 non-null   object  \n",
      " 19  mean_ckeck_per_household_size  59641 non-null   float64 \n",
      " 20  manufacturer                   123821 non-null  float64 \n",
      " 21  department                     123821 non-null  category\n",
      " 22  brand                          123821 non-null  float64 \n",
      " 23  commodity_desc                 123821 non-null  category\n",
      " 24  sub_commodity_desc             123821 non-null  object  \n",
      " 25  curr_size_of_product           123821 non-null  object  \n",
      " 26  commodity_category             123821 non-null  float64 \n",
      "dtypes: category(2), float64(20), int64(2), object(3)\n",
      "memory usage: 55.4+ MB\n"
     ]
    }
   ],
   "source": [
    "targets_lvl_2.info()"
   ]
  },
  {
   "cell_type": "code",
   "execution_count": 208,
   "metadata": {},
   "outputs": [],
   "source": [
    "targets_lvl_2 = nan_replacer(targets_lvl_2)"
   ]
  },
  {
   "cell_type": "code",
   "execution_count": 209,
   "metadata": {
    "scrolled": true
   },
   "outputs": [
    {
     "name": "stdout",
     "output_type": "stream",
     "text": [
      "Memory usage of dataframe is 55.39 MB\n",
      "Memory usage after optimization is: 25.69 MB\n",
      "Decreased by 53.6%\n"
     ]
    }
   ],
   "source": [
    "targets_lvl_2 = reduce_mem_usage(targets_lvl_2)"
   ]
  },
  {
   "cell_type": "code",
   "execution_count": 210,
   "metadata": {},
   "outputs": [
    {
     "name": "stdout",
     "output_type": "stream",
     "text": [
      "<class 'pandas.core.frame.DataFrame'>\n",
      "RangeIndex: 286065 entries, 0 to 286064\n",
      "Data columns (total 27 columns):\n",
      " #   Column                         Non-Null Count   Dtype   \n",
      "---  ------                         --------------   -----   \n",
      " 0   user_id                        286065 non-null  int16   \n",
      " 1   item_id                        286065 non-null  int32   \n",
      " 2   target                         286065 non-null  float32 \n",
      " 3   median_sales_hour              286065 non-null  float32 \n",
      " 4   median_weekday                 286065 non-null  float32 \n",
      " 5   n_items                        286065 non-null  float32 \n",
      " 6   purchase_2                     286065 non-null  float32 \n",
      " 7   purchase_3                     286065 non-null  float32 \n",
      " 8   purchase_4                     286065 non-null  float32 \n",
      " 9   mean_check                     286065 non-null  float32 \n",
      " 10  n_transactions                 286065 non-null  float32 \n",
      " 11  popularity                     286065 non-null  float32 \n",
      " 12  age_desc                       286065 non-null  float32 \n",
      " 13  marital_status_code            286065 non-null  float32 \n",
      " 14  income_desc                    286065 non-null  float32 \n",
      " 15  homeowner_desc                 286065 non-null  float32 \n",
      " 16  hh_comp_desc                   286065 non-null  float32 \n",
      " 17  household_size_desc            286065 non-null  float32 \n",
      " 18  kid_category_desc              286065 non-null  category\n",
      " 19  mean_ckeck_per_household_size  286065 non-null  float32 \n",
      " 20  manufacturer                   286065 non-null  float32 \n",
      " 21  department                     286065 non-null  category\n",
      " 22  brand                          286065 non-null  float32 \n",
      " 23  commodity_desc                 286065 non-null  category\n",
      " 24  sub_commodity_desc             286065 non-null  category\n",
      " 25  curr_size_of_product           286065 non-null  category\n",
      " 26  commodity_category             286065 non-null  float32 \n",
      "dtypes: category(5), float32(20), int16(1), int32(1)\n",
      "memory usage: 25.7 MB\n"
     ]
    }
   ],
   "source": [
    "targets_lvl_2.info()"
   ]
  },
  {
   "cell_type": "markdown",
   "metadata": {},
   "source": [
    "## Разделение на трейн и предикт"
   ]
  },
  {
   "cell_type": "code",
   "execution_count": 211,
   "metadata": {},
   "outputs": [],
   "source": [
    "X_train = targets_lvl_2.drop('target', axis=1)\n",
    "y_train = targets_lvl_2[['target']]"
   ]
  },
  {
   "cell_type": "code",
   "execution_count": 212,
   "metadata": {},
   "outputs": [
    {
     "data": {
      "text/plain": [
       "(286065, 26)"
      ]
     },
     "execution_count": 212,
     "metadata": {},
     "output_type": "execute_result"
    }
   ],
   "source": [
    "X_train.shape"
   ]
  },
  {
   "cell_type": "code",
   "execution_count": 213,
   "metadata": {},
   "outputs": [],
   "source": [
    "X_train = X_train.loc[X_train['item_id']!=999999]"
   ]
  },
  {
   "cell_type": "code",
   "execution_count": 214,
   "metadata": {},
   "outputs": [
    {
     "data": {
      "text/plain": [
       "(286065, 26)"
      ]
     },
     "execution_count": 214,
     "metadata": {},
     "output_type": "execute_result"
    }
   ],
   "source": [
    "X_train.shape"
   ]
  },
  {
   "cell_type": "markdown",
   "metadata": {},
   "source": [
    "## Предобработка обучающего множества"
   ]
  },
  {
   "cell_type": "code",
   "execution_count": 215,
   "metadata": {},
   "outputs": [],
   "source": [
    "choosen_feature = ['item_id',\n",
    "                'n_transactions',\n",
    "                'median_sales_hour',\n",
    "                'median_weekday',\n",
    "                'user_id',\n",
    "                'n_items',\n",
    "                'mean_check',\n",
    "                'commodity_category',\n",
    "                'sub_commodity_desc',\n",
    "                'manufacturer']"
   ]
  },
  {
   "cell_type": "code",
   "execution_count": 216,
   "metadata": {},
   "outputs": [],
   "source": [
    "X_train = X_train[choosen_feature]"
   ]
  },
  {
   "cell_type": "code",
   "execution_count": 217,
   "metadata": {},
   "outputs": [],
   "source": [
    "categorial_columns = [col for col in X_train.columns if X_train[col].dtype =='category']"
   ]
  },
  {
   "cell_type": "code",
   "execution_count": 218,
   "metadata": {
    "scrolled": true
   },
   "outputs": [
    {
     "data": {
      "text/plain": [
       "['sub_commodity_desc']"
      ]
     },
     "execution_count": 218,
     "metadata": {},
     "output_type": "execute_result"
    }
   ],
   "source": [
    "categorial_columns"
   ]
  },
  {
   "cell_type": "markdown",
   "metadata": {},
   "source": [
    "## Обучение"
   ]
  },
  {
   "cell_type": "code",
   "execution_count": 221,
   "metadata": {},
   "outputs": [
    {
     "name": "stdout",
     "output_type": "stream",
     "text": [
      "CPU times: total: 9min 32s\n",
      "Wall time: 1min 45s\n"
     ]
    },
    {
     "data": {
      "text/plain": [
       "<catboost.core.CatBoostClassifier at 0x1fa4ce7b350>"
      ]
     },
     "execution_count": 221,
     "metadata": {},
     "output_type": "execute_result"
    }
   ],
   "source": [
    "%%time\n",
    "cat = CatBoostClassifier(max_depth=3, n_estimators=900, cat_features=categorial_columns, random_state=14, silent=True)\n",
    "cat.fit(X_train, y_train, cat_features=categorial_columns)"
   ]
  },
  {
   "cell_type": "code",
   "execution_count": 222,
   "metadata": {},
   "outputs": [],
   "source": [
    "train_preds = cat.predict(X_train)\n",
    "train_preds_proba = cat.predict_proba(X_train)"
   ]
  },
  {
   "cell_type": "code",
   "execution_count": 223,
   "metadata": {},
   "outputs": [],
   "source": [
    "train_preds = train_preds.astype(bool)"
   ]
  },
  {
   "cell_type": "code",
   "execution_count": 224,
   "metadata": {},
   "outputs": [],
   "source": [
    "rec_items = X_train[train_preds].groupby(by=['user_id'])['item_id'].unique().reset_index()\n",
    "rec_items.columns = ['user_id', 'model_preds']"
   ]
  },
  {
   "cell_type": "code",
   "execution_count": 225,
   "metadata": {},
   "outputs": [],
   "source": [
    "data_valid_L2 = data_valid_L2.loc[data_valid_L2['item_id']!=999999]"
   ]
  },
  {
   "cell_type": "code",
   "execution_count": 226,
   "metadata": {},
   "outputs": [],
   "source": [
    "result_l2 = data_valid_L2.groupby('user_id')['item_id'].unique().reset_index()\n",
    "result_l2.columns = ['user_id', 'actual']"
   ]
  },
  {
   "cell_type": "code",
   "execution_count": 227,
   "metadata": {},
   "outputs": [],
   "source": [
    "result_l2 = result_l2.merge(rec_items,\n",
    "                                  on='user_id',\n",
    "                                  how='inner')"
   ]
  },
  {
   "cell_type": "code",
   "execution_count": 228,
   "metadata": {
    "scrolled": true
   },
   "outputs": [
    {
     "data": {
      "text/html": [
       "<div>\n",
       "<style scoped>\n",
       "    .dataframe tbody tr th:only-of-type {\n",
       "        vertical-align: middle;\n",
       "    }\n",
       "\n",
       "    .dataframe tbody tr th {\n",
       "        vertical-align: top;\n",
       "    }\n",
       "\n",
       "    .dataframe thead th {\n",
       "        text-align: right;\n",
       "    }\n",
       "</style>\n",
       "<table border=\"1\" class=\"dataframe\">\n",
       "  <thead>\n",
       "    <tr style=\"text-align: right;\">\n",
       "      <th></th>\n",
       "      <th>user_id</th>\n",
       "      <th>actual</th>\n",
       "      <th>model_preds</th>\n",
       "    </tr>\n",
       "  </thead>\n",
       "  <tbody>\n",
       "    <tr>\n",
       "      <th>0</th>\n",
       "      <td>1</td>\n",
       "      <td>[821867, 834484, 856942, 865456, 889248, 90795...</td>\n",
       "      <td>[995242, 1005186, 1082185]</td>\n",
       "    </tr>\n",
       "    <tr>\n",
       "      <th>1</th>\n",
       "      <td>6</td>\n",
       "      <td>[920308, 926804, 946489, 1017061, 1078346, 110...</td>\n",
       "      <td>[1082185, 995242, 1029743]</td>\n",
       "    </tr>\n",
       "    <tr>\n",
       "      <th>2</th>\n",
       "      <td>13</td>\n",
       "      <td>[6534178, 1104146, 840361, 862070, 884897, 886...</td>\n",
       "      <td>[6534178, 1106523, 1029743, 995242, 1058997]</td>\n",
       "    </tr>\n",
       "    <tr>\n",
       "      <th>3</th>\n",
       "      <td>18</td>\n",
       "      <td>[831628, 914697, 995242, 1118878, 1128477, 744...</td>\n",
       "      <td>[1082185]</td>\n",
       "    </tr>\n",
       "  </tbody>\n",
       "</table>\n",
       "</div>"
      ],
      "text/plain": [
       "   user_id                                             actual  \\\n",
       "0        1  [821867, 834484, 856942, 865456, 889248, 90795...   \n",
       "1        6  [920308, 926804, 946489, 1017061, 1078346, 110...   \n",
       "2       13  [6534178, 1104146, 840361, 862070, 884897, 886...   \n",
       "3       18  [831628, 914697, 995242, 1118878, 1128477, 744...   \n",
       "\n",
       "                                    model_preds  \n",
       "0                    [995242, 1005186, 1082185]  \n",
       "1                    [1082185, 995242, 1029743]  \n",
       "2  [6534178, 1106523, 1029743, 995242, 1058997]  \n",
       "3                                     [1082185]  "
      ]
     },
     "execution_count": 228,
     "metadata": {},
     "output_type": "execute_result"
    }
   ],
   "source": [
    "result_l2.head(4)"
   ]
  },
  {
   "cell_type": "markdown",
   "metadata": {},
   "source": [
    "### Точность на Тренировочной выборке"
   ]
  },
  {
   "cell_type": "code",
   "execution_count": 229,
   "metadata": {
    "scrolled": true
   },
   "outputs": [
    {
     "data": {
      "text/plain": [
       "0.5710830704521557"
      ]
     },
     "execution_count": 229,
     "metadata": {},
     "output_type": "execute_result"
    }
   ],
   "source": [
    "result_l2.apply(lambda row: precision_at_k(row['model_preds'], row['actual']), axis=1).mean()"
   ]
  },
  {
   "cell_type": "code",
   "execution_count": 230,
   "metadata": {},
   "outputs": [],
   "source": [
    "importance = []\n",
    "for f, n in zip(cat.feature_importances_, cat.feature_names_):\n",
    "    importance.append((f,n))\n",
    "importance.sort(reverse=True)"
   ]
  },
  {
   "cell_type": "code",
   "execution_count": 231,
   "metadata": {
    "scrolled": true
   },
   "outputs": [
    {
     "data": {
      "text/plain": [
       "[(18.113100680701045, 'sub_commodity_desc'),\n",
       " (14.221874619853596, 'item_id'),\n",
       " (13.117140782865484, 'n_items'),\n",
       " (11.952164529489506, 'commodity_category'),\n",
       " (11.560697109999744, 'median_weekday'),\n",
       " (10.637471563121183, 'n_transactions'),\n",
       " (7.484686873250083, 'mean_check'),\n",
       " (5.0917630817468185, 'manufacturer'),\n",
       " (3.986888906637063, 'median_sales_hour'),\n",
       " (3.8342118523355277, 'user_id')]"
      ]
     },
     "execution_count": 231,
     "metadata": {},
     "output_type": "execute_result"
    }
   ],
   "source": [
    "importance"
   ]
  },
  {
   "cell_type": "markdown",
   "metadata": {},
   "source": [
    "## Проверка на тесте"
   ]
  },
  {
   "cell_type": "code",
   "execution_count": 232,
   "metadata": {},
   "outputs": [],
   "source": [
    "X_test_2 = data_valid_L2.merge(user_item_features, on=['user_id','item_id'], how='left')"
   ]
  },
  {
   "cell_type": "code",
   "execution_count": 233,
   "metadata": {
    "scrolled": true
   },
   "outputs": [
    {
     "data": {
      "text/plain": [
       "(90280, 36)"
      ]
     },
     "execution_count": 233,
     "metadata": {},
     "output_type": "execute_result"
    }
   ],
   "source": [
    "X_test_2.shape"
   ]
  },
  {
   "cell_type": "code",
   "execution_count": 234,
   "metadata": {},
   "outputs": [],
   "source": [
    "X_test_2 = nan_replacer(X_test_2)"
   ]
  },
  {
   "cell_type": "code",
   "execution_count": 235,
   "metadata": {
    "scrolled": true
   },
   "outputs": [
    {
     "name": "stdout",
     "output_type": "stream",
     "text": [
      "Memory usage of dataframe is 23.69 MB\n",
      "Memory usage after optimization is: 11.02 MB\n",
      "Decreased by 53.5%\n"
     ]
    }
   ],
   "source": [
    "X_test_2 = reduce_mem_usage(X_test_2)"
   ]
  },
  {
   "cell_type": "code",
   "execution_count": 236,
   "metadata": {},
   "outputs": [],
   "source": [
    "X_test_2=X_test_2[choosen_feature]"
   ]
  },
  {
   "cell_type": "code",
   "execution_count": 237,
   "metadata": {},
   "outputs": [],
   "source": [
    "cat_proba = cat.predict_proba(X_test_2)[:, 1]\n",
    "cat_predict = cat.predict(X_test_2)"
   ]
  },
  {
   "cell_type": "code",
   "execution_count": 238,
   "metadata": {},
   "outputs": [],
   "source": [
    "cat_predict = cat_predict.astype(bool)"
   ]
  },
  {
   "cell_type": "code",
   "execution_count": 239,
   "metadata": {},
   "outputs": [],
   "source": [
    "rec_items_test = X_test_2[cat_predict].groupby(by=['user_id'])['item_id'].unique().reset_index()\n",
    "rec_items_test.columns = ['user_id', 'model_preds_test']"
   ]
  },
  {
   "cell_type": "code",
   "execution_count": 240,
   "metadata": {},
   "outputs": [],
   "source": [
    "result_l2 = result_l2.merge(rec_items_test,\n",
    "                                  on='user_id',\n",
    "                                  how='inner')"
   ]
  },
  {
   "cell_type": "code",
   "execution_count": 241,
   "metadata": {
    "scrolled": true
   },
   "outputs": [
    {
     "data": {
      "text/html": [
       "<div>\n",
       "<style scoped>\n",
       "    .dataframe tbody tr th:only-of-type {\n",
       "        vertical-align: middle;\n",
       "    }\n",
       "\n",
       "    .dataframe tbody tr th {\n",
       "        vertical-align: top;\n",
       "    }\n",
       "\n",
       "    .dataframe thead th {\n",
       "        text-align: right;\n",
       "    }\n",
       "</style>\n",
       "<table border=\"1\" class=\"dataframe\">\n",
       "  <thead>\n",
       "    <tr style=\"text-align: right;\">\n",
       "      <th></th>\n",
       "      <th>user_id</th>\n",
       "      <th>actual</th>\n",
       "      <th>model_preds</th>\n",
       "      <th>model_preds_test</th>\n",
       "    </tr>\n",
       "  </thead>\n",
       "  <tbody>\n",
       "    <tr>\n",
       "      <th>0</th>\n",
       "      <td>1</td>\n",
       "      <td>[821867, 834484, 856942, 865456, 889248, 90795...</td>\n",
       "      <td>[995242, 1005186, 1082185]</td>\n",
       "      <td>[995242, 1005186, 1082185]</td>\n",
       "    </tr>\n",
       "    <tr>\n",
       "      <th>1</th>\n",
       "      <td>6</td>\n",
       "      <td>[920308, 926804, 946489, 1017061, 1078346, 110...</td>\n",
       "      <td>[1082185, 995242, 1029743]</td>\n",
       "      <td>[995242]</td>\n",
       "    </tr>\n",
       "    <tr>\n",
       "      <th>2</th>\n",
       "      <td>13</td>\n",
       "      <td>[6534178, 1104146, 840361, 862070, 884897, 886...</td>\n",
       "      <td>[6534178, 1106523, 1029743, 995242, 1058997]</td>\n",
       "      <td>[6534178, 1029743, 1082185, 995242]</td>\n",
       "    </tr>\n",
       "    <tr>\n",
       "      <th>3</th>\n",
       "      <td>18</td>\n",
       "      <td>[831628, 914697, 995242, 1118878, 1128477, 744...</td>\n",
       "      <td>[1082185]</td>\n",
       "      <td>[948420, 1082185, 6533889]</td>\n",
       "    </tr>\n",
       "  </tbody>\n",
       "</table>\n",
       "</div>"
      ],
      "text/plain": [
       "   user_id                                             actual  \\\n",
       "0        1  [821867, 834484, 856942, 865456, 889248, 90795...   \n",
       "1        6  [920308, 926804, 946489, 1017061, 1078346, 110...   \n",
       "2       13  [6534178, 1104146, 840361, 862070, 884897, 886...   \n",
       "3       18  [831628, 914697, 995242, 1118878, 1128477, 744...   \n",
       "\n",
       "                                    model_preds  \\\n",
       "0                    [995242, 1005186, 1082185]   \n",
       "1                    [1082185, 995242, 1029743]   \n",
       "2  [6534178, 1106523, 1029743, 995242, 1058997]   \n",
       "3                                     [1082185]   \n",
       "\n",
       "                      model_preds_test  \n",
       "0           [995242, 1005186, 1082185]  \n",
       "1                             [995242]  \n",
       "2  [6534178, 1029743, 1082185, 995242]  \n",
       "3           [948420, 1082185, 6533889]  "
      ]
     },
     "execution_count": 241,
     "metadata": {},
     "output_type": "execute_result"
    }
   ],
   "source": [
    "result_l2.head(4)"
   ]
  },
  {
   "cell_type": "markdown",
   "metadata": {},
   "source": [
    "## Точность на тесте "
   ]
  },
  {
   "cell_type": "code",
   "execution_count": 242,
   "metadata": {},
   "outputs": [
    {
     "data": {
      "text/plain": [
       "1.0"
      ]
     },
     "execution_count": 242,
     "metadata": {},
     "output_type": "execute_result"
    }
   ],
   "source": [
    "result_l2.apply(lambda row: precision_at_k(row['model_preds_test'], row['actual']), axis=1).mean()"
   ]
  },
  {
   "cell_type": "code",
   "execution_count": 243,
   "metadata": {},
   "outputs": [],
   "source": [
    "result_2_test = X_test_2[['user_id', 'item_id']]\n",
    "result_2_test['predictions'] = cat_proba\n",
    "\n",
    "result_2_test = result_2_test.groupby(['user_id', 'item_id'])['predictions'].median().reset_index()\n",
    "result_2_test = result_2_test.sort_values(['predictions'], ascending=False).groupby(['user_id']).head(5)\n",
    "result_2_test = result_2_test.groupby('user_id')['item_id'].unique().reset_index()"
   ]
  },
  {
   "cell_type": "code",
   "execution_count": 244,
   "metadata": {},
   "outputs": [],
   "source": [
    "result_2_test.columns = ['user_id', 'model_test_5']"
   ]
  },
  {
   "cell_type": "code",
   "execution_count": 245,
   "metadata": {},
   "outputs": [],
   "source": [
    "result_l2 = result_l2.merge(result_2_test, on ='user_id', how='inner' )"
   ]
  },
  {
   "cell_type": "code",
   "execution_count": 247,
   "metadata": {},
   "outputs": [
    {
     "data": {
      "text/plain": [
       "1.0"
      ]
     },
     "execution_count": 247,
     "metadata": {},
     "output_type": "execute_result"
    }
   ],
   "source": [
    "result_l2.apply(lambda row: precision_at_k(row['model_test_5'], row['actual']), axis=1).mean()"
   ]
  },
  {
   "cell_type": "code",
   "execution_count": 248,
   "metadata": {},
   "outputs": [
    {
     "data": {
      "text/plain": [
       "0.9978491391753045"
      ]
     },
     "execution_count": 248,
     "metadata": {},
     "output_type": "execute_result"
    }
   ],
   "source": [
    "NDCG_mean(result_l2['model_test_5'], result_l2['actual'])"
   ]
  },
  {
   "cell_type": "markdown",
   "metadata": {},
   "source": [
    "# Выводы\n",
    "Модель показала идеальную точность \n",
    "Ранжирующая метрика NDCG так же близка к идеальной.\n",
    "Данная модель идеально предсказывает предпочтения пользователя однако не предлагает пользователю ничего нового или схожего с тем что он брал но не то что он брал.\n",
    "На AB тесте модель тоже скорей всего покажет хороший результат с любой другой моделью (по предсказанию).\n",
    "Однако дополнительной прибыли модель врятли принесет поскольку не рекомендует ничего нового.\n"
   ]
  },
  {
   "cell_type": "code",
   "execution_count": null,
   "metadata": {},
   "outputs": [],
   "source": []
  }
 ],
 "metadata": {
  "colab": {
   "name": "hw_webinar_6.ipynb",
   "provenance": []
  },
  "kernelspec": {
   "display_name": "Python 3 (ipykernel)",
   "language": "python",
   "name": "python3"
  },
  "language_info": {
   "codemirror_mode": {
    "name": "ipython",
    "version": 3
   },
   "file_extension": ".py",
   "mimetype": "text/x-python",
   "name": "python",
   "nbconvert_exporter": "python",
   "pygments_lexer": "ipython3",
   "version": "3.11.5"
  }
 },
 "nbformat": 4,
 "nbformat_minor": 1
}
