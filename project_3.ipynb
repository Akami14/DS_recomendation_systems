{
 "cells": [
  {
   "cell_type": "markdown",
   "metadata": {
    "id": "nMBdGcvjC4Ji"
   },
   "source": [
    "# Двухуровневые модели рекомендаций\n"
   ]
  },
  {
   "cell_type": "markdown",
   "metadata": {},
   "source": [
    "**Основное**  \n",
    "Данны данные о покупках 2500 пользователей в течении 95 недель так же есть характеристики пользователя и характеристики продукта.\n",
    "Задача разработать модель с\n",
    "- Целевая метрика precision@5 > 0.22"
   ]
  },
  {
   "cell_type": "code",
   "execution_count": 1,
   "metadata": {
    "id": "5Aur99NsC4Jm",
    "outputId": "9b9a338b-a52f-4253-9694-ac431b62eefc"
   },
   "outputs": [],
   "source": [
    "import pandas as pd\n",
    "import numpy as np\n",
    "import matplotlib.pyplot as plt\n",
    "%matplotlib inline\n",
    "\n",
    "# Для работы с матрицами\n",
    "from scipy.sparse import csr_matrix\n",
    "\n",
    "# Матричная факторизация\n",
    "from implicit.als import AlternatingLeastSquares\n",
    "from implicit import approximate_als\n",
    "from implicit.nearest_neighbours import ItemItemRecommender,  CosineRecommender\n",
    "\n",
    "# Модель второго уровня\n",
    "from catboost import CatBoostClassifier\n",
    "from utilis import prefilter_items, prefilter_items_v2\n",
    "from recomenders5 import MainRecommender\n",
    "from metrics import recall_at_k_mean, recall_at_k, precision_at_k, map_k_mean, NDCG_mean, ap_k\n",
    "from data_prepare import reduce_mem_usage, nan_replacer, feature_generator,user_feature_prepare, item_features_prepare\n",
    "from recomender9 import MainRecommender\n",
    "import warnings\n",
    "warnings.filterwarnings(\"ignore\")"
   ]
  },
  {
   "cell_type": "code",
   "execution_count": 2,
   "metadata": {},
   "outputs": [],
   "source": [
    "%load_ext autoreload\n",
    "%autoreload 2"
   ]
  },
  {
   "cell_type": "code",
   "execution_count": 3,
   "metadata": {
    "id": "vso_erSdC4Jo",
    "outputId": "da20dbf1-3086-4fd6-ac92-f7653d7f9f71",
    "scrolled": false
   },
   "outputs": [],
   "source": [
    "data = pd.read_csv('retail_train.csv')\n",
    "#data = prefilter_items(data)\n",
    "\n",
    "item_features = pd.read_csv('product.csv')\n",
    "user_features = pd.read_csv('hh_demographic.csv')\n",
    "\n",
    "#column processing\n",
    "item_features.columns = [col.lower() for col in item_features.columns]\n",
    "user_features.columns = [col.lower() for col in user_features.columns]\n",
    "\n",
    "item_features.rename(columns={'product_id': 'item_id'}, inplace=True)\n",
    "user_features.rename(columns={'household_key': 'user_id'}, inplace=True)"
   ]
  },
  {
   "cell_type": "code",
   "execution_count": 4,
   "metadata": {},
   "outputs": [],
   "source": [
    "data = prefilter_items(data, take_n=20000)"
   ]
  },
  {
   "cell_type": "code",
   "execution_count": 5,
   "metadata": {},
   "outputs": [],
   "source": [
    "max_week = data['week_no'].max()\n",
    "condition_train = (data['week_no'] < max_week - 6)\n",
    "condition_valid = data['week_no'] >= max_week - 3\n",
    "condition_test = ((data['week_no'] >= max_week - 6) & (data['week_no'] < max_week - 3))\n",
    "                   \n",
    "data_train_L1 = data[condition_train]\n",
    "data_test_L1 = data[condition_test]\n",
    "\n",
    "data_train_L2 = data_test_L1.copy()\n",
    "data_valid_L2 = data[condition_valid]"
   ]
  },
  {
   "cell_type": "code",
   "execution_count": 6,
   "metadata": {},
   "outputs": [],
   "source": [
    "data_l1_l2_val = pd.concat([data_valid_L2, data_test_L1], ignore_index = True)"
   ]
  },
  {
   "cell_type": "code",
   "execution_count": 7,
   "metadata": {
    "scrolled": true
   },
   "outputs": [
    {
     "data": {
      "text/html": [
       "<div>\n",
       "<style scoped>\n",
       "    .dataframe tbody tr th:only-of-type {\n",
       "        vertical-align: middle;\n",
       "    }\n",
       "\n",
       "    .dataframe tbody tr th {\n",
       "        vertical-align: top;\n",
       "    }\n",
       "\n",
       "    .dataframe thead th {\n",
       "        text-align: right;\n",
       "    }\n",
       "</style>\n",
       "<table border=\"1\" class=\"dataframe\">\n",
       "  <thead>\n",
       "    <tr style=\"text-align: right;\">\n",
       "      <th></th>\n",
       "      <th>user_id</th>\n",
       "      <th>actual</th>\n",
       "    </tr>\n",
       "  </thead>\n",
       "  <tbody>\n",
       "    <tr>\n",
       "      <th>0</th>\n",
       "      <td>1</td>\n",
       "      <td>[829323, 999999, 836423, 851515, 875240, 87737...</td>\n",
       "    </tr>\n",
       "    <tr>\n",
       "      <th>1</th>\n",
       "      <td>2</td>\n",
       "      <td>[999999, 821083, 828106, 830960, 833025, 83813...</td>\n",
       "    </tr>\n",
       "  </tbody>\n",
       "</table>\n",
       "</div>"
      ],
      "text/plain": [
       "   user_id                                             actual\n",
       "0        1  [829323, 999999, 836423, 851515, 875240, 87737...\n",
       "1        2  [999999, 821083, 828106, 830960, 833025, 83813..."
      ]
     },
     "execution_count": 7,
     "metadata": {},
     "output_type": "execute_result"
    }
   ],
   "source": [
    "result = data_test_L1.groupby('user_id')['item_id'].unique().reset_index()\n",
    "result.columns=['user_id', 'actual']\n",
    "result.head(2)"
   ]
  },
  {
   "cell_type": "code",
   "execution_count": 8,
   "metadata": {},
   "outputs": [],
   "source": [
    "result = result.loc[result['user_id']<=2499]"
   ]
  },
  {
   "cell_type": "markdown",
   "metadata": {},
   "source": [
    "# ItemItem"
   ]
  },
  {
   "cell_type": "code",
   "execution_count": 9,
   "metadata": {},
   "outputs": [],
   "source": [
    "from recomender9 import MainRecommender"
   ]
  },
  {
   "cell_type": "code",
   "execution_count": 10,
   "metadata": {
    "scrolled": false
   },
   "outputs": [
    {
     "data": {
      "application/vnd.jupyter.widget-view+json": {
       "model_id": "1159adba9c5c448d85a172a3a94b21e0",
       "version_major": 2,
       "version_minor": 0
      },
      "text/plain": [
       "  0%|          | 0/15 [00:00<?, ?it/s]"
      ]
     },
     "metadata": {},
     "output_type": "display_data"
    },
    {
     "data": {
      "application/vnd.jupyter.widget-view+json": {
       "model_id": "dc939e99a715425ab6ddcf1c12d23a46",
       "version_major": 2,
       "version_minor": 0
      },
      "text/plain": [
       "  0%|          | 0/19990 [00:00<?, ?it/s]"
      ]
     },
     "metadata": {},
     "output_type": "display_data"
    },
    {
     "data": {
      "application/vnd.jupyter.widget-view+json": {
       "model_id": "dcd0630ace004cc08cd3fe5457f0ca96",
       "version_major": 2,
       "version_minor": 0
      },
      "text/plain": [
       "  0%|          | 0/19990 [00:00<?, ?it/s]"
      ]
     },
     "metadata": {},
     "output_type": "display_data"
    },
    {
     "name": "stdout",
     "output_type": "stream",
     "text": [
      "CPU times: total: 1min 13s\n",
      "Wall time: 29.1 s\n"
     ]
    }
   ],
   "source": [
    "%%time\n",
    "rec = MainRecommender(data_train_L1)"
   ]
  },
  {
   "cell_type": "code",
   "execution_count": 11,
   "metadata": {},
   "outputs": [
    {
     "name": "stdout",
     "output_type": "stream",
     "text": [
      "CPU times: total: 2.66 s\n",
      "Wall time: 2.7 s\n"
     ]
    }
   ],
   "source": [
    "%%time\n",
    "item_200 = np.array([])\n",
    "for ids in result['user_id']:\n",
    "    item_200 = np.append(item_200, rec.get_item_recommendations(ids, N=200))\n",
    "    item_200 = item_200.reshape(-1, 200)"
   ]
  },
  {
   "cell_type": "code",
   "execution_count": 12,
   "metadata": {},
   "outputs": [],
   "source": [
    "result['item'] = item_200.tolist()"
   ]
  },
  {
   "cell_type": "markdown",
   "metadata": {},
   "source": [
    "### Полнота на 1-ом уровне на тесте"
   ]
  },
  {
   "cell_type": "code",
   "execution_count": 13,
   "metadata": {
    "scrolled": true
   },
   "outputs": [
    {
     "data": {
      "text/plain": [
       "0.18206286060866114"
      ]
     },
     "execution_count": 13,
     "metadata": {},
     "output_type": "execute_result"
    }
   ],
   "source": [
    "result.apply(lambda row: recall_at_k(row['item'], row['actual'], k=200), axis=1).mean()"
   ]
  },
  {
   "cell_type": "markdown",
   "metadata": {},
   "source": [
    "# Генерация признаков"
   ]
  },
  {
   "cell_type": "code",
   "execution_count": 14,
   "metadata": {},
   "outputs": [],
   "source": [
    "user_feature = user_feature_prepare(user_features)"
   ]
  },
  {
   "cell_type": "code",
   "execution_count": 15,
   "metadata": {},
   "outputs": [],
   "source": [
    "item_features = item_features_prepare(item_features)"
   ]
  },
  {
   "cell_type": "code",
   "execution_count": 16,
   "metadata": {
    "scrolled": true
   },
   "outputs": [
    {
     "name": "stdout",
     "output_type": "stream",
     "text": [
      "Добавлены следующие признаки:\n",
      "время покупки -hour\n",
      "день недели совершения транзакции-median_weekday\n",
      "кол-во транзакций покупок пользователем-n_transactions\n",
      "кол-во уникальных покупок пользователем-n_items\n",
      "средний чек пользвателя - mean_check\n",
      "средний чек на размер семьи-mean_ckeck_per_household_size\n",
      "популярность товара-popularity\n",
      "любимые товары пользователя-purchase_2,purchase_3,purchase_4\n"
     ]
    }
   ],
   "source": [
    "user_item_features = feature_generator(data_train_L1,user_feature, item_features)"
   ]
  },
  {
   "cell_type": "code",
   "execution_count": 17,
   "metadata": {
    "scrolled": true
   },
   "outputs": [
    {
     "data": {
      "text/html": [
       "<div>\n",
       "<style scoped>\n",
       "    .dataframe tbody tr th:only-of-type {\n",
       "        vertical-align: middle;\n",
       "    }\n",
       "\n",
       "    .dataframe tbody tr th {\n",
       "        vertical-align: top;\n",
       "    }\n",
       "\n",
       "    .dataframe thead th {\n",
       "        text-align: right;\n",
       "    }\n",
       "</style>\n",
       "<table border=\"1\" class=\"dataframe\">\n",
       "  <thead>\n",
       "    <tr style=\"text-align: right;\">\n",
       "      <th></th>\n",
       "      <th>user_id</th>\n",
       "      <th>item_id</th>\n",
       "      <th>median_sales_hour</th>\n",
       "      <th>median_weekday</th>\n",
       "      <th>n_items</th>\n",
       "      <th>purchase_2</th>\n",
       "      <th>purchase_3</th>\n",
       "      <th>purchase_4</th>\n",
       "      <th>mean_check</th>\n",
       "      <th>n_transactions</th>\n",
       "      <th>...</th>\n",
       "      <th>household_size_desc</th>\n",
       "      <th>kid_category_desc</th>\n",
       "      <th>mean_ckeck_per_household_size</th>\n",
       "      <th>manufacturer</th>\n",
       "      <th>department</th>\n",
       "      <th>brand</th>\n",
       "      <th>commodity_desc</th>\n",
       "      <th>sub_commodity_desc</th>\n",
       "      <th>curr_size_of_product</th>\n",
       "      <th>commodity_category</th>\n",
       "    </tr>\n",
       "  </thead>\n",
       "  <tbody>\n",
       "    <tr>\n",
       "      <th>0</th>\n",
       "      <td>1</td>\n",
       "      <td>820165</td>\n",
       "      <td>12.0</td>\n",
       "      <td>1.5</td>\n",
       "      <td>482</td>\n",
       "      <td>856942.0</td>\n",
       "      <td>1082185.0</td>\n",
       "      <td>995242.0</td>\n",
       "      <td>50.174167</td>\n",
       "      <td>1449</td>\n",
       "      <td>...</td>\n",
       "      <td>2.0</td>\n",
       "      <td>0</td>\n",
       "      <td>25.087083</td>\n",
       "      <td>2.0</td>\n",
       "      <td>PRODUCE</td>\n",
       "      <td>1.0</td>\n",
       "      <td>CITRUS</td>\n",
       "      <td>ORANGES NAVELS ALL</td>\n",
       "      <td></td>\n",
       "      <td>166.0</td>\n",
       "    </tr>\n",
       "    <tr>\n",
       "      <th>1</th>\n",
       "      <td>1</td>\n",
       "      <td>821815</td>\n",
       "      <td>16.0</td>\n",
       "      <td>3.0</td>\n",
       "      <td>482</td>\n",
       "      <td>856942.0</td>\n",
       "      <td>1082185.0</td>\n",
       "      <td>995242.0</td>\n",
       "      <td>50.174167</td>\n",
       "      <td>1449</td>\n",
       "      <td>...</td>\n",
       "      <td>2.0</td>\n",
       "      <td>0</td>\n",
       "      <td>25.087083</td>\n",
       "      <td>131.0</td>\n",
       "      <td>GROCERY</td>\n",
       "      <td>1.0</td>\n",
       "      <td>DRY SAUCES/GRAVY</td>\n",
       "      <td>GRAVY CAN/GLASS</td>\n",
       "      <td>12 OZ</td>\n",
       "      <td>132.0</td>\n",
       "    </tr>\n",
       "    <tr>\n",
       "      <th>2</th>\n",
       "      <td>1</td>\n",
       "      <td>823721</td>\n",
       "      <td>14.0</td>\n",
       "      <td>4.0</td>\n",
       "      <td>482</td>\n",
       "      <td>856942.0</td>\n",
       "      <td>1082185.0</td>\n",
       "      <td>995242.0</td>\n",
       "      <td>50.174167</td>\n",
       "      <td>1449</td>\n",
       "      <td>...</td>\n",
       "      <td>2.0</td>\n",
       "      <td>0</td>\n",
       "      <td>25.087083</td>\n",
       "      <td>317.0</td>\n",
       "      <td>GROCERY</td>\n",
       "      <td>1.0</td>\n",
       "      <td>CHEESE</td>\n",
       "      <td>GRATED CHEESE</td>\n",
       "      <td>8 OZ</td>\n",
       "      <td>14.0</td>\n",
       "    </tr>\n",
       "    <tr>\n",
       "      <th>3</th>\n",
       "      <td>1</td>\n",
       "      <td>823990</td>\n",
       "      <td>15.0</td>\n",
       "      <td>6.0</td>\n",
       "      <td>482</td>\n",
       "      <td>856942.0</td>\n",
       "      <td>1082185.0</td>\n",
       "      <td>995242.0</td>\n",
       "      <td>50.174167</td>\n",
       "      <td>1449</td>\n",
       "      <td>...</td>\n",
       "      <td>2.0</td>\n",
       "      <td>0</td>\n",
       "      <td>25.087083</td>\n",
       "      <td>2929.0</td>\n",
       "      <td>MEAT</td>\n",
       "      <td>1.0</td>\n",
       "      <td>BEEF</td>\n",
       "      <td>CHOICE BEEF</td>\n",
       "      <td></td>\n",
       "      <td>13.0</td>\n",
       "    </tr>\n",
       "    <tr>\n",
       "      <th>4</th>\n",
       "      <td>1</td>\n",
       "      <td>825123</td>\n",
       "      <td>15.0</td>\n",
       "      <td>4.0</td>\n",
       "      <td>482</td>\n",
       "      <td>856942.0</td>\n",
       "      <td>1082185.0</td>\n",
       "      <td>995242.0</td>\n",
       "      <td>50.174167</td>\n",
       "      <td>1449</td>\n",
       "      <td>...</td>\n",
       "      <td>2.0</td>\n",
       "      <td>0</td>\n",
       "      <td>25.087083</td>\n",
       "      <td>1179.0</td>\n",
       "      <td>GROCERY</td>\n",
       "      <td>1.0</td>\n",
       "      <td>SALD DRSNG/SNDWCH SPRD</td>\n",
       "      <td>SEMI-SOLID SALAD DRESSING MAY</td>\n",
       "      <td>30 OZ</td>\n",
       "      <td>34.0</td>\n",
       "    </tr>\n",
       "  </tbody>\n",
       "</table>\n",
       "<p>5 rows × 26 columns</p>\n",
       "</div>"
      ],
      "text/plain": [
       "   user_id  item_id  median_sales_hour  median_weekday  n_items  purchase_2  \\\n",
       "0        1   820165               12.0             1.5      482    856942.0   \n",
       "1        1   821815               16.0             3.0      482    856942.0   \n",
       "2        1   823721               14.0             4.0      482    856942.0   \n",
       "3        1   823990               15.0             6.0      482    856942.0   \n",
       "4        1   825123               15.0             4.0      482    856942.0   \n",
       "\n",
       "   purchase_3  purchase_4  mean_check  n_transactions  ...  \\\n",
       "0   1082185.0    995242.0   50.174167            1449  ...   \n",
       "1   1082185.0    995242.0   50.174167            1449  ...   \n",
       "2   1082185.0    995242.0   50.174167            1449  ...   \n",
       "3   1082185.0    995242.0   50.174167            1449  ...   \n",
       "4   1082185.0    995242.0   50.174167            1449  ...   \n",
       "\n",
       "   household_size_desc  kid_category_desc  mean_ckeck_per_household_size  \\\n",
       "0                  2.0                  0                      25.087083   \n",
       "1                  2.0                  0                      25.087083   \n",
       "2                  2.0                  0                      25.087083   \n",
       "3                  2.0                  0                      25.087083   \n",
       "4                  2.0                  0                      25.087083   \n",
       "\n",
       "   manufacturer  department  brand          commodity_desc  \\\n",
       "0           2.0     PRODUCE    1.0                  CITRUS   \n",
       "1         131.0     GROCERY    1.0        DRY SAUCES/GRAVY   \n",
       "2         317.0     GROCERY    1.0                  CHEESE   \n",
       "3        2929.0        MEAT    1.0                    BEEF   \n",
       "4        1179.0     GROCERY    1.0  SALD DRSNG/SNDWCH SPRD   \n",
       "\n",
       "              sub_commodity_desc  curr_size_of_product  commodity_category  \n",
       "0             ORANGES NAVELS ALL                                     166.0  \n",
       "1                GRAVY CAN/GLASS                 12 OZ               132.0  \n",
       "2                  GRATED CHEESE                  8 OZ                14.0  \n",
       "3                    CHOICE BEEF                                      13.0  \n",
       "4  SEMI-SOLID SALAD DRESSING MAY                 30 OZ                34.0  \n",
       "\n",
       "[5 rows x 26 columns]"
      ]
     },
     "execution_count": 17,
     "metadata": {},
     "output_type": "execute_result"
    }
   ],
   "source": [
    "user_item_features.head(5)"
   ]
  },
  {
   "cell_type": "markdown",
   "metadata": {},
   "source": [
    "# Подготовка к уровню 2"
   ]
  },
  {
   "cell_type": "markdown",
   "metadata": {},
   "source": [
    "### Слияние USER и IITEM + добавление flag 0 если не покупал 1 если купил"
   ]
  },
  {
   "cell_type": "code",
   "execution_count": 18,
   "metadata": {},
   "outputs": [],
   "source": [
    "users_lvl_2 = pd.DataFrame(data_train_L2['user_id'].unique())\n",
    "users_lvl_2.columns = ['user_id']\n",
    "users_lvl_2 = users_lvl_2.loc[users_lvl_2['user_id']<=2499] # конец не попал в обучение поэтому и предсказать не сможем для юсеров выше\n",
    "# Пока только warm start\n",
    "train_users = data_train_L1['user_id'].unique()\n",
    "users_lvl_2 = users_lvl_2[users_lvl_2['user_id'].isin(train_users)] #выбрали только тех пользователей что были в 1й обучающей выборке\n",
    "#Обучение 1 го уровня и создание кандидатов\n",
    "users_lvl_2['candidates'] = users_lvl_2['user_id'].apply(lambda x: rec.get_item_recommendations(x, N=200))"
   ]
  },
  {
   "cell_type": "code",
   "execution_count": 19,
   "metadata": {
    "scrolled": true
   },
   "outputs": [
    {
     "data": {
      "text/html": [
       "<div>\n",
       "<style scoped>\n",
       "    .dataframe tbody tr th:only-of-type {\n",
       "        vertical-align: middle;\n",
       "    }\n",
       "\n",
       "    .dataframe tbody tr th {\n",
       "        vertical-align: top;\n",
       "    }\n",
       "\n",
       "    .dataframe thead th {\n",
       "        text-align: right;\n",
       "    }\n",
       "</style>\n",
       "<table border=\"1\" class=\"dataframe\">\n",
       "  <thead>\n",
       "    <tr style=\"text-align: right;\">\n",
       "      <th></th>\n",
       "      <th>user_id</th>\n",
       "      <th>candidates</th>\n",
       "    </tr>\n",
       "  </thead>\n",
       "  <tbody>\n",
       "    <tr>\n",
       "      <th>0</th>\n",
       "      <td>84</td>\n",
       "      <td>[1082185, 981760, 995242, 1098066, 826249, 840...</td>\n",
       "    </tr>\n",
       "    <tr>\n",
       "      <th>1</th>\n",
       "      <td>1753</td>\n",
       "      <td>[1082185, 981760, 1098066, 826249, 995242, 840...</td>\n",
       "    </tr>\n",
       "    <tr>\n",
       "      <th>2</th>\n",
       "      <td>2120</td>\n",
       "      <td>[1082185, 981760, 1127831, 995242, 840361, 109...</td>\n",
       "    </tr>\n",
       "  </tbody>\n",
       "</table>\n",
       "</div>"
      ],
      "text/plain": [
       "   user_id                                         candidates\n",
       "0       84  [1082185, 981760, 995242, 1098066, 826249, 840...\n",
       "1     1753  [1082185, 981760, 1098066, 826249, 995242, 840...\n",
       "2     2120  [1082185, 981760, 1127831, 995242, 840361, 109..."
      ]
     },
     "execution_count": 19,
     "metadata": {},
     "output_type": "execute_result"
    }
   ],
   "source": [
    "users_lvl_2.head(3)"
   ]
  },
  {
   "cell_type": "code",
   "execution_count": 20,
   "metadata": {
    "scrolled": false
   },
   "outputs": [
    {
     "data": {
      "text/html": [
       "<div>\n",
       "<style scoped>\n",
       "    .dataframe tbody tr th:only-of-type {\n",
       "        vertical-align: middle;\n",
       "    }\n",
       "\n",
       "    .dataframe tbody tr th {\n",
       "        vertical-align: top;\n",
       "    }\n",
       "\n",
       "    .dataframe thead th {\n",
       "        text-align: right;\n",
       "    }\n",
       "</style>\n",
       "<table border=\"1\" class=\"dataframe\">\n",
       "  <thead>\n",
       "    <tr style=\"text-align: right;\">\n",
       "      <th></th>\n",
       "      <th>user_id</th>\n",
       "      <th>item_id</th>\n",
       "      <th>flag</th>\n",
       "    </tr>\n",
       "  </thead>\n",
       "  <tbody>\n",
       "    <tr>\n",
       "      <th>0</th>\n",
       "      <td>84</td>\n",
       "      <td>1082185</td>\n",
       "      <td>1</td>\n",
       "    </tr>\n",
       "    <tr>\n",
       "      <th>0</th>\n",
       "      <td>84</td>\n",
       "      <td>981760</td>\n",
       "      <td>1</td>\n",
       "    </tr>\n",
       "    <tr>\n",
       "      <th>0</th>\n",
       "      <td>84</td>\n",
       "      <td>995242</td>\n",
       "      <td>1</td>\n",
       "    </tr>\n",
       "  </tbody>\n",
       "</table>\n",
       "</div>"
      ],
      "text/plain": [
       "   user_id  item_id  flag\n",
       "0       84  1082185     1\n",
       "0       84   981760     1\n",
       "0       84   995242     1"
      ]
     },
     "execution_count": 20,
     "metadata": {},
     "output_type": "execute_result"
    }
   ],
   "source": [
    "# склеивание каждого el из candidates с user_id\n",
    "s = users_lvl_2.apply(lambda x: pd.Series(x['candidates']), axis=1).stack().reset_index(level=1, drop=True)\n",
    "s.name = 'item_id'\n",
    "users_lvl_2 = users_lvl_2.drop('candidates', axis=1).join(s)\n",
    "users_lvl_2['flag'] = 1 #пока метка у всех 1\n",
    "users_lvl_2.head(3)"
   ]
  },
  {
   "cell_type": "code",
   "execution_count": 21,
   "metadata": {},
   "outputs": [
    {
     "data": {
      "text/html": [
       "<div>\n",
       "<style scoped>\n",
       "    .dataframe tbody tr th:only-of-type {\n",
       "        vertical-align: middle;\n",
       "    }\n",
       "\n",
       "    .dataframe tbody tr th {\n",
       "        vertical-align: top;\n",
       "    }\n",
       "\n",
       "    .dataframe thead th {\n",
       "        text-align: right;\n",
       "    }\n",
       "</style>\n",
       "<table border=\"1\" class=\"dataframe\">\n",
       "  <thead>\n",
       "    <tr style=\"text-align: right;\">\n",
       "      <th></th>\n",
       "      <th>user_id</th>\n",
       "      <th>item_id</th>\n",
       "      <th>target</th>\n",
       "    </tr>\n",
       "  </thead>\n",
       "  <tbody>\n",
       "    <tr>\n",
       "      <th>0</th>\n",
       "      <td>84</td>\n",
       "      <td>1082185</td>\n",
       "      <td>0.0</td>\n",
       "    </tr>\n",
       "    <tr>\n",
       "      <th>1</th>\n",
       "      <td>84</td>\n",
       "      <td>981760</td>\n",
       "      <td>0.0</td>\n",
       "    </tr>\n",
       "    <tr>\n",
       "      <th>2</th>\n",
       "      <td>84</td>\n",
       "      <td>995242</td>\n",
       "      <td>0.0</td>\n",
       "    </tr>\n",
       "  </tbody>\n",
       "</table>\n",
       "</div>"
      ],
      "text/plain": [
       "   user_id  item_id  target\n",
       "0       84  1082185     0.0\n",
       "1       84   981760     0.0\n",
       "2       84   995242     0.0"
      ]
     },
     "execution_count": 21,
     "metadata": {},
     "output_type": "execute_result"
    }
   ],
   "source": [
    "targets_lvl_2 = data_train_L2[['user_id', 'item_id']].copy()\n",
    "targets_lvl_2['target'] = 1  # тут только покупки \n",
    "targets_lvl_2 = users_lvl_2.merge(targets_lvl_2, on=['user_id', 'item_id'], how='left')\n",
    "targets_lvl_2['target'].fillna(0, inplace= True)\n",
    "targets_lvl_2.drop('flag', axis=1, inplace=True)\n",
    "targets_lvl_2.head(3)"
   ]
  },
  {
   "cell_type": "code",
   "execution_count": 22,
   "metadata": {},
   "outputs": [
    {
     "data": {
      "text/plain": [
       "(380334, 3)"
      ]
     },
     "execution_count": 22,
     "metadata": {},
     "output_type": "execute_result"
    }
   ],
   "source": [
    "targets_lvl_2.shape"
   ]
  },
  {
   "cell_type": "markdown",
   "metadata": {},
   "source": [
    "# Добавление признаков на уровень 2"
   ]
  },
  {
   "cell_type": "code",
   "execution_count": 23,
   "metadata": {
    "scrolled": false
   },
   "outputs": [
    {
     "data": {
      "text/html": [
       "<div>\n",
       "<style scoped>\n",
       "    .dataframe tbody tr th:only-of-type {\n",
       "        vertical-align: middle;\n",
       "    }\n",
       "\n",
       "    .dataframe tbody tr th {\n",
       "        vertical-align: top;\n",
       "    }\n",
       "\n",
       "    .dataframe thead th {\n",
       "        text-align: right;\n",
       "    }\n",
       "</style>\n",
       "<table border=\"1\" class=\"dataframe\">\n",
       "  <thead>\n",
       "    <tr style=\"text-align: right;\">\n",
       "      <th></th>\n",
       "      <th>user_id</th>\n",
       "      <th>item_id</th>\n",
       "      <th>target</th>\n",
       "      <th>median_sales_hour</th>\n",
       "      <th>median_weekday</th>\n",
       "      <th>n_items</th>\n",
       "      <th>purchase_2</th>\n",
       "      <th>purchase_3</th>\n",
       "      <th>purchase_4</th>\n",
       "      <th>mean_check</th>\n",
       "      <th>...</th>\n",
       "      <th>household_size_desc</th>\n",
       "      <th>kid_category_desc</th>\n",
       "      <th>mean_ckeck_per_household_size</th>\n",
       "      <th>manufacturer</th>\n",
       "      <th>department</th>\n",
       "      <th>brand</th>\n",
       "      <th>commodity_desc</th>\n",
       "      <th>sub_commodity_desc</th>\n",
       "      <th>curr_size_of_product</th>\n",
       "      <th>commodity_category</th>\n",
       "    </tr>\n",
       "  </thead>\n",
       "  <tbody>\n",
       "    <tr>\n",
       "      <th>0</th>\n",
       "      <td>84</td>\n",
       "      <td>1082185</td>\n",
       "      <td>0.0</td>\n",
       "      <td>1.0</td>\n",
       "      <td>4.0</td>\n",
       "      <td>241.0</td>\n",
       "      <td>903529.0</td>\n",
       "      <td>1080414.0</td>\n",
       "      <td>920025.0</td>\n",
       "      <td>23.707907</td>\n",
       "      <td>...</td>\n",
       "      <td>NaN</td>\n",
       "      <td>NaN</td>\n",
       "      <td>NaN</td>\n",
       "      <td>2.0</td>\n",
       "      <td>PRODUCE</td>\n",
       "      <td>1.0</td>\n",
       "      <td>TROPICAL FRUIT</td>\n",
       "      <td>BANANAS</td>\n",
       "      <td>40 LB</td>\n",
       "      <td>216.0</td>\n",
       "    </tr>\n",
       "    <tr>\n",
       "      <th>1</th>\n",
       "      <td>84</td>\n",
       "      <td>981760</td>\n",
       "      <td>0.0</td>\n",
       "      <td>NaN</td>\n",
       "      <td>NaN</td>\n",
       "      <td>NaN</td>\n",
       "      <td>NaN</td>\n",
       "      <td>NaN</td>\n",
       "      <td>NaN</td>\n",
       "      <td>NaN</td>\n",
       "      <td>...</td>\n",
       "      <td>NaN</td>\n",
       "      <td>NaN</td>\n",
       "      <td>NaN</td>\n",
       "      <td>NaN</td>\n",
       "      <td>NaN</td>\n",
       "      <td>NaN</td>\n",
       "      <td>NaN</td>\n",
       "      <td>NaN</td>\n",
       "      <td>NaN</td>\n",
       "      <td>NaN</td>\n",
       "    </tr>\n",
       "    <tr>\n",
       "      <th>2</th>\n",
       "      <td>84</td>\n",
       "      <td>995242</td>\n",
       "      <td>0.0</td>\n",
       "      <td>7.5</td>\n",
       "      <td>3.5</td>\n",
       "      <td>241.0</td>\n",
       "      <td>903529.0</td>\n",
       "      <td>1080414.0</td>\n",
       "      <td>920025.0</td>\n",
       "      <td>23.707907</td>\n",
       "      <td>...</td>\n",
       "      <td>NaN</td>\n",
       "      <td>NaN</td>\n",
       "      <td>NaN</td>\n",
       "      <td>69.0</td>\n",
       "      <td>GROCERY</td>\n",
       "      <td>0.0</td>\n",
       "      <td>FLUID MILK PRODUCTS</td>\n",
       "      <td>FLUID MILK WHITE ONLY</td>\n",
       "      <td></td>\n",
       "      <td>62.0</td>\n",
       "    </tr>\n",
       "    <tr>\n",
       "      <th>3</th>\n",
       "      <td>84</td>\n",
       "      <td>1098066</td>\n",
       "      <td>0.0</td>\n",
       "      <td>NaN</td>\n",
       "      <td>NaN</td>\n",
       "      <td>NaN</td>\n",
       "      <td>NaN</td>\n",
       "      <td>NaN</td>\n",
       "      <td>NaN</td>\n",
       "      <td>NaN</td>\n",
       "      <td>...</td>\n",
       "      <td>NaN</td>\n",
       "      <td>NaN</td>\n",
       "      <td>NaN</td>\n",
       "      <td>NaN</td>\n",
       "      <td>NaN</td>\n",
       "      <td>NaN</td>\n",
       "      <td>NaN</td>\n",
       "      <td>NaN</td>\n",
       "      <td>NaN</td>\n",
       "      <td>NaN</td>\n",
       "    </tr>\n",
       "  </tbody>\n",
       "</table>\n",
       "<p>4 rows × 27 columns</p>\n",
       "</div>"
      ],
      "text/plain": [
       "   user_id  item_id  target  median_sales_hour  median_weekday  n_items  \\\n",
       "0       84  1082185     0.0                1.0             4.0    241.0   \n",
       "1       84   981760     0.0                NaN             NaN      NaN   \n",
       "2       84   995242     0.0                7.5             3.5    241.0   \n",
       "3       84  1098066     0.0                NaN             NaN      NaN   \n",
       "\n",
       "   purchase_2  purchase_3  purchase_4  mean_check  ...  household_size_desc  \\\n",
       "0    903529.0   1080414.0    920025.0   23.707907  ...                  NaN   \n",
       "1         NaN         NaN         NaN         NaN  ...                  NaN   \n",
       "2    903529.0   1080414.0    920025.0   23.707907  ...                  NaN   \n",
       "3         NaN         NaN         NaN         NaN  ...                  NaN   \n",
       "\n",
       "   kid_category_desc  mean_ckeck_per_household_size  manufacturer  department  \\\n",
       "0                NaN                            NaN           2.0     PRODUCE   \n",
       "1                NaN                            NaN           NaN         NaN   \n",
       "2                NaN                            NaN          69.0     GROCERY   \n",
       "3                NaN                            NaN           NaN         NaN   \n",
       "\n",
       "   brand       commodity_desc     sub_commodity_desc curr_size_of_product  \\\n",
       "0    1.0       TROPICAL FRUIT                BANANAS                40 LB   \n",
       "1    NaN                  NaN                    NaN                  NaN   \n",
       "2    0.0  FLUID MILK PRODUCTS  FLUID MILK WHITE ONLY                        \n",
       "3    NaN                  NaN                    NaN                  NaN   \n",
       "\n",
       "   commodity_category  \n",
       "0               216.0  \n",
       "1                 NaN  \n",
       "2                62.0  \n",
       "3                 NaN  \n",
       "\n",
       "[4 rows x 27 columns]"
      ]
     },
     "execution_count": 23,
     "metadata": {},
     "output_type": "execute_result"
    }
   ],
   "source": [
    "targets_lvl_2 = targets_lvl_2.merge(user_item_features, on=['user_id','item_id'], how='left')\n",
    "targets_lvl_2.head(4)"
   ]
  },
  {
   "cell_type": "code",
   "execution_count": 24,
   "metadata": {},
   "outputs": [
    {
     "data": {
      "text/plain": [
       "(380334, 27)"
      ]
     },
     "execution_count": 24,
     "metadata": {},
     "output_type": "execute_result"
    }
   ],
   "source": [
    "targets_lvl_2.shape"
   ]
  },
  {
   "cell_type": "markdown",
   "metadata": {},
   "source": [
    "## Обработка признаков товаров"
   ]
  },
  {
   "cell_type": "code",
   "execution_count": 25,
   "metadata": {
    "scrolled": true
   },
   "outputs": [
    {
     "name": "stdout",
     "output_type": "stream",
     "text": [
      "<class 'pandas.core.frame.DataFrame'>\n",
      "RangeIndex: 380334 entries, 0 to 380333\n",
      "Data columns (total 27 columns):\n",
      " #   Column                         Non-Null Count   Dtype   \n",
      "---  ------                         --------------   -----   \n",
      " 0   user_id                        380334 non-null  int64   \n",
      " 1   item_id                        380334 non-null  int64   \n",
      " 2   target                         380334 non-null  float64 \n",
      " 3   median_sales_hour              108037 non-null  float64 \n",
      " 4   median_weekday                 108037 non-null  float64 \n",
      " 5   n_items                        108037 non-null  float64 \n",
      " 6   purchase_2                     108036 non-null  float64 \n",
      " 7   purchase_3                     108036 non-null  float64 \n",
      " 8   purchase_4                     108036 non-null  float64 \n",
      " 9   mean_check                     108037 non-null  float64 \n",
      " 10  n_transactions                 108037 non-null  float64 \n",
      " 11  popularity                     108037 non-null  float64 \n",
      " 12  age_desc                       54982 non-null   float64 \n",
      " 13  marital_status_code            54982 non-null   float64 \n",
      " 14  income_desc                    54982 non-null   float64 \n",
      " 15  homeowner_desc                 54982 non-null   float64 \n",
      " 16  hh_comp_desc                   54982 non-null   float64 \n",
      " 17  household_size_desc            54982 non-null   float64 \n",
      " 18  kid_category_desc              54982 non-null   object  \n",
      " 19  mean_ckeck_per_household_size  54982 non-null   float64 \n",
      " 20  manufacturer                   108037 non-null  float64 \n",
      " 21  department                     108037 non-null  category\n",
      " 22  brand                          108037 non-null  float64 \n",
      " 23  commodity_desc                 108037 non-null  category\n",
      " 24  sub_commodity_desc             108037 non-null  object  \n",
      " 25  curr_size_of_product           108037 non-null  object  \n",
      " 26  commodity_category             108037 non-null  float64 \n",
      "dtypes: category(2), float64(20), int64(2), object(3)\n",
      "memory usage: 73.6+ MB\n"
     ]
    }
   ],
   "source": [
    "targets_lvl_2.info()"
   ]
  },
  {
   "cell_type": "code",
   "execution_count": 26,
   "metadata": {},
   "outputs": [],
   "source": [
    "targets_lvl_2 = nan_replacer(targets_lvl_2)"
   ]
  },
  {
   "cell_type": "code",
   "execution_count": 27,
   "metadata": {
    "scrolled": true
   },
   "outputs": [
    {
     "name": "stdout",
     "output_type": "stream",
     "text": [
      "Memory usage of dataframe is 73.64 MB\n",
      "Memory usage after optimization is: 33.75 MB\n",
      "Decreased by 54.2%\n"
     ]
    }
   ],
   "source": [
    "targets_lvl_2 = reduce_mem_usage(targets_lvl_2)"
   ]
  },
  {
   "cell_type": "code",
   "execution_count": 28,
   "metadata": {},
   "outputs": [
    {
     "name": "stdout",
     "output_type": "stream",
     "text": [
      "<class 'pandas.core.frame.DataFrame'>\n",
      "RangeIndex: 380334 entries, 0 to 380333\n",
      "Data columns (total 27 columns):\n",
      " #   Column                         Non-Null Count   Dtype   \n",
      "---  ------                         --------------   -----   \n",
      " 0   user_id                        380334 non-null  int16   \n",
      " 1   item_id                        380334 non-null  int32   \n",
      " 2   target                         380334 non-null  float32 \n",
      " 3   median_sales_hour              380334 non-null  float32 \n",
      " 4   median_weekday                 380334 non-null  float32 \n",
      " 5   n_items                        380334 non-null  float32 \n",
      " 6   purchase_2                     380334 non-null  float32 \n",
      " 7   purchase_3                     380334 non-null  float32 \n",
      " 8   purchase_4                     380334 non-null  float32 \n",
      " 9   mean_check                     380334 non-null  float32 \n",
      " 10  n_transactions                 380334 non-null  float32 \n",
      " 11  popularity                     380334 non-null  float32 \n",
      " 12  age_desc                       380334 non-null  float32 \n",
      " 13  marital_status_code            380334 non-null  float32 \n",
      " 14  income_desc                    380334 non-null  float32 \n",
      " 15  homeowner_desc                 380334 non-null  float32 \n",
      " 16  hh_comp_desc                   380334 non-null  float32 \n",
      " 17  household_size_desc            380334 non-null  float32 \n",
      " 18  kid_category_desc              380334 non-null  category\n",
      " 19  mean_ckeck_per_household_size  380334 non-null  float32 \n",
      " 20  manufacturer                   380334 non-null  float32 \n",
      " 21  department                     380334 non-null  category\n",
      " 22  brand                          380334 non-null  float32 \n",
      " 23  commodity_desc                 380334 non-null  category\n",
      " 24  sub_commodity_desc             380334 non-null  category\n",
      " 25  curr_size_of_product           380334 non-null  category\n",
      " 26  commodity_category             380334 non-null  float32 \n",
      "dtypes: category(5), float32(20), int16(1), int32(1)\n",
      "memory usage: 33.8 MB\n"
     ]
    }
   ],
   "source": [
    "targets_lvl_2.info()"
   ]
  },
  {
   "cell_type": "markdown",
   "metadata": {},
   "source": [
    "## Разделение на трейн и предикт"
   ]
  },
  {
   "cell_type": "code",
   "execution_count": 29,
   "metadata": {},
   "outputs": [],
   "source": [
    "X_train = targets_lvl_2.drop('target', axis=1)\n",
    "y_train = targets_lvl_2[['target']]"
   ]
  },
  {
   "cell_type": "code",
   "execution_count": 30,
   "metadata": {},
   "outputs": [
    {
     "data": {
      "text/plain": [
       "(380334, 26)"
      ]
     },
     "execution_count": 30,
     "metadata": {},
     "output_type": "execute_result"
    }
   ],
   "source": [
    "X_train.shape"
   ]
  },
  {
   "cell_type": "code",
   "execution_count": 31,
   "metadata": {},
   "outputs": [],
   "source": [
    "X_train = X_train.loc[X_train['item_id']!=999999]"
   ]
  },
  {
   "cell_type": "code",
   "execution_count": 32,
   "metadata": {},
   "outputs": [
    {
     "data": {
      "text/plain": [
       "(380334, 26)"
      ]
     },
     "execution_count": 32,
     "metadata": {},
     "output_type": "execute_result"
    }
   ],
   "source": [
    "X_train.shape"
   ]
  },
  {
   "cell_type": "markdown",
   "metadata": {},
   "source": [
    "## Предобработка обучающего множества"
   ]
  },
  {
   "cell_type": "code",
   "execution_count": 33,
   "metadata": {},
   "outputs": [],
   "source": [
    "choosen_feature = ['item_id',\n",
    "                'popularity',\n",
    "                'n_transactions',\n",
    "                'purchase_4',\n",
    "                'median_sales_hour',\n",
    "                'median_weekday',\n",
    "                'user_id',\n",
    "                'n_items',\n",
    "                'mean_check',\n",
    "                'commodity_category',\n",
    "                'purchase_2',\n",
    "                'purchase_3',\n",
    "                'sub_commodity_desc',\n",
    "                'manufacturer']"
   ]
  },
  {
   "cell_type": "code",
   "execution_count": 34,
   "metadata": {},
   "outputs": [],
   "source": [
    "X_train = X_train[choosen_feature]"
   ]
  },
  {
   "cell_type": "code",
   "execution_count": 35,
   "metadata": {},
   "outputs": [],
   "source": [
    "categorial_columns = [col for col in X_train.columns if X_train[col].dtype =='category']"
   ]
  },
  {
   "cell_type": "code",
   "execution_count": 36,
   "metadata": {
    "scrolled": true
   },
   "outputs": [
    {
     "data": {
      "text/plain": [
       "['sub_commodity_desc']"
      ]
     },
     "execution_count": 36,
     "metadata": {},
     "output_type": "execute_result"
    }
   ],
   "source": [
    "categorial_columns"
   ]
  },
  {
   "cell_type": "markdown",
   "metadata": {},
   "source": [
    "## Обучение"
   ]
  },
  {
   "cell_type": "code",
   "execution_count": 37,
   "metadata": {},
   "outputs": [
    {
     "name": "stdout",
     "output_type": "stream",
     "text": [
      "CPU times: total: 26min\n",
      "Wall time: 5min 14s\n"
     ]
    },
    {
     "data": {
      "text/plain": [
       "<catboost.core.CatBoostClassifier at 0x27c46001810>"
      ]
     },
     "execution_count": 37,
     "metadata": {},
     "output_type": "execute_result"
    }
   ],
   "source": [
    "%%time\n",
    "cat = CatBoostClassifier(max_depth=7, n_estimators=1200, cat_features=categorial_columns, random_state=14, silent=True)\n",
    "cat.fit(X_train, y_train, cat_features=categorial_columns)"
   ]
  },
  {
   "cell_type": "code",
   "execution_count": 38,
   "metadata": {},
   "outputs": [],
   "source": [
    "train_preds = cat.predict(X_train)\n",
    "train_preds_proba = cat.predict_proba(X_train)"
   ]
  },
  {
   "cell_type": "code",
   "execution_count": 39,
   "metadata": {},
   "outputs": [],
   "source": [
    "train_preds = train_preds.astype(bool)"
   ]
  },
  {
   "cell_type": "code",
   "execution_count": 40,
   "metadata": {},
   "outputs": [],
   "source": [
    "rec_items = X_train[train_preds].groupby(by=['user_id'])['item_id'].unique().reset_index()\n",
    "rec_items.columns = ['user_id', 'model_preds']"
   ]
  },
  {
   "cell_type": "code",
   "execution_count": 41,
   "metadata": {},
   "outputs": [],
   "source": [
    "data_valid_L2 = data_valid_L2.loc[data_valid_L2['item_id']!=999999]"
   ]
  },
  {
   "cell_type": "code",
   "execution_count": 42,
   "metadata": {},
   "outputs": [],
   "source": [
    "result_l2 = data_valid_L2.groupby('user_id')['item_id'].unique().reset_index()\n",
    "result_l2.columns = ['user_id', 'actual']"
   ]
  },
  {
   "cell_type": "code",
   "execution_count": 43,
   "metadata": {},
   "outputs": [],
   "source": [
    "result_l2 = result_l2.merge(rec_items,\n",
    "                                  on='user_id',\n",
    "                                  how='inner')"
   ]
  },
  {
   "cell_type": "code",
   "execution_count": 44,
   "metadata": {
    "scrolled": true
   },
   "outputs": [
    {
     "data": {
      "text/html": [
       "<div>\n",
       "<style scoped>\n",
       "    .dataframe tbody tr th:only-of-type {\n",
       "        vertical-align: middle;\n",
       "    }\n",
       "\n",
       "    .dataframe tbody tr th {\n",
       "        vertical-align: top;\n",
       "    }\n",
       "\n",
       "    .dataframe thead th {\n",
       "        text-align: right;\n",
       "    }\n",
       "</style>\n",
       "<table border=\"1\" class=\"dataframe\">\n",
       "  <thead>\n",
       "    <tr style=\"text-align: right;\">\n",
       "      <th></th>\n",
       "      <th>user_id</th>\n",
       "      <th>actual</th>\n",
       "      <th>model_preds</th>\n",
       "    </tr>\n",
       "  </thead>\n",
       "  <tbody>\n",
       "    <tr>\n",
       "      <th>0</th>\n",
       "      <td>1</td>\n",
       "      <td>[821867, 834484, 856942, 865456, 889248, 90795...</td>\n",
       "      <td>[1082185, 995242, 840361, 1005186]</td>\n",
       "    </tr>\n",
       "    <tr>\n",
       "      <th>1</th>\n",
       "      <td>6</td>\n",
       "      <td>[920308, 926804, 946489, 1006718, 1017061, 107...</td>\n",
       "      <td>[1082185, 1024306]</td>\n",
       "    </tr>\n",
       "    <tr>\n",
       "      <th>2</th>\n",
       "      <td>7</td>\n",
       "      <td>[840386, 889774, 898068, 909714, 929067, 95347...</td>\n",
       "      <td>[1082185]</td>\n",
       "    </tr>\n",
       "    <tr>\n",
       "      <th>3</th>\n",
       "      <td>8</td>\n",
       "      <td>[835098, 872137, 910439, 924610, 992977, 10412...</td>\n",
       "      <td>[1082185, 1029743]</td>\n",
       "    </tr>\n",
       "  </tbody>\n",
       "</table>\n",
       "</div>"
      ],
      "text/plain": [
       "   user_id                                             actual  \\\n",
       "0        1  [821867, 834484, 856942, 865456, 889248, 90795...   \n",
       "1        6  [920308, 926804, 946489, 1006718, 1017061, 107...   \n",
       "2        7  [840386, 889774, 898068, 909714, 929067, 95347...   \n",
       "3        8  [835098, 872137, 910439, 924610, 992977, 10412...   \n",
       "\n",
       "                          model_preds  \n",
       "0  [1082185, 995242, 840361, 1005186]  \n",
       "1                  [1082185, 1024306]  \n",
       "2                           [1082185]  \n",
       "3                  [1082185, 1029743]  "
      ]
     },
     "execution_count": 44,
     "metadata": {},
     "output_type": "execute_result"
    }
   ],
   "source": [
    "result_l2.head(4)"
   ]
  },
  {
   "cell_type": "markdown",
   "metadata": {},
   "source": [
    "### Точность на Тренировочной выборке"
   ]
  },
  {
   "cell_type": "code",
   "execution_count": 45,
   "metadata": {
    "scrolled": true
   },
   "outputs": [
    {
     "data": {
      "text/plain": [
       "0.5940285204991088"
      ]
     },
     "execution_count": 45,
     "metadata": {},
     "output_type": "execute_result"
    }
   ],
   "source": [
    "result_l2.apply(lambda row: precision_at_k(row['model_preds'], row['actual']), axis=1).mean()"
   ]
  },
  {
   "cell_type": "markdown",
   "metadata": {},
   "source": [
    "При сокращнение количества признаков до 14 метрика точности на тренировочном множестве упала на 2%"
   ]
  },
  {
   "cell_type": "code",
   "execution_count": 46,
   "metadata": {},
   "outputs": [],
   "source": [
    "importance = []\n",
    "for f, n in zip(cat.feature_importances_, cat.feature_names_):\n",
    "    importance.append((f,n))\n",
    "importance.sort(reverse=True)"
   ]
  },
  {
   "cell_type": "code",
   "execution_count": 47,
   "metadata": {
    "scrolled": true
   },
   "outputs": [
    {
     "data": {
      "text/plain": [
       "[(17.257260055243325, 'item_id'),\n",
       " (9.397744208501551, 'popularity'),\n",
       " (7.793479006839854, 'n_transactions'),\n",
       " (7.279560280928382, 'purchase_4'),\n",
       " (6.748438559081776, 'n_items'),\n",
       " (6.630117467974545, 'user_id'),\n",
       " (6.465186908046023, 'commodity_category'),\n",
       " (6.104005675576925, 'mean_check'),\n",
       " (6.0175833502702165, 'purchase_2'),\n",
       " (5.898214049204149, 'median_sales_hour'),\n",
       " (5.4809661968026315, 'median_weekday'),\n",
       " (5.425869432915209, 'sub_commodity_desc'),\n",
       " (5.33474120930678, 'purchase_3'),\n",
       " (4.166833599308624, 'manufacturer')]"
      ]
     },
     "execution_count": 47,
     "metadata": {},
     "output_type": "execute_result"
    }
   ],
   "source": [
    "importance[:14]"
   ]
  },
  {
   "cell_type": "markdown",
   "metadata": {},
   "source": [
    "## Проверка на тесте"
   ]
  },
  {
   "cell_type": "code",
   "execution_count": 48,
   "metadata": {},
   "outputs": [],
   "source": [
    "X_test_2 = data_valid_L2.merge(user_item_features, on=['user_id','item_id'], how='left')"
   ]
  },
  {
   "cell_type": "code",
   "execution_count": 49,
   "metadata": {
    "scrolled": true
   },
   "outputs": [
    {
     "data": {
      "text/plain": [
       "(104913, 36)"
      ]
     },
     "execution_count": 49,
     "metadata": {},
     "output_type": "execute_result"
    }
   ],
   "source": [
    "X_test_2.shape"
   ]
  },
  {
   "cell_type": "code",
   "execution_count": 50,
   "metadata": {},
   "outputs": [],
   "source": [
    "X_test_2 = nan_replacer(X_test_2)"
   ]
  },
  {
   "cell_type": "code",
   "execution_count": 51,
   "metadata": {
    "scrolled": true
   },
   "outputs": [
    {
     "name": "stdout",
     "output_type": "stream",
     "text": [
      "Memory usage of dataframe is 27.53 MB\n",
      "Memory usage after optimization is: 12.80 MB\n",
      "Decreased by 53.5%\n"
     ]
    }
   ],
   "source": [
    "X_test_2 = reduce_mem_usage(X_test_2)"
   ]
  },
  {
   "cell_type": "code",
   "execution_count": 52,
   "metadata": {},
   "outputs": [],
   "source": [
    "X_test_2=X_test_2[choosen_feature]"
   ]
  },
  {
   "cell_type": "code",
   "execution_count": 53,
   "metadata": {},
   "outputs": [],
   "source": [
    "cat_proba = cat.predict_proba(X_test_2)[:, 1]\n",
    "cat_predict = cat.predict(X_test_2)"
   ]
  },
  {
   "cell_type": "code",
   "execution_count": 54,
   "metadata": {},
   "outputs": [],
   "source": [
    "cat_predict = cat_predict.astype(bool)"
   ]
  },
  {
   "cell_type": "code",
   "execution_count": 55,
   "metadata": {},
   "outputs": [],
   "source": [
    "rec_items_test = X_test_2[cat_predict].groupby(by=['user_id'])['item_id'].unique().reset_index()\n",
    "rec_items_test.columns = ['user_id', 'model_preds_test']"
   ]
  },
  {
   "cell_type": "code",
   "execution_count": 56,
   "metadata": {},
   "outputs": [],
   "source": [
    "result_l2 = result_l2.merge(rec_items_test,\n",
    "                                  on='user_id',\n",
    "                                  how='inner')"
   ]
  },
  {
   "cell_type": "code",
   "execution_count": 57,
   "metadata": {
    "scrolled": true
   },
   "outputs": [
    {
     "data": {
      "text/html": [
       "<div>\n",
       "<style scoped>\n",
       "    .dataframe tbody tr th:only-of-type {\n",
       "        vertical-align: middle;\n",
       "    }\n",
       "\n",
       "    .dataframe tbody tr th {\n",
       "        vertical-align: top;\n",
       "    }\n",
       "\n",
       "    .dataframe thead th {\n",
       "        text-align: right;\n",
       "    }\n",
       "</style>\n",
       "<table border=\"1\" class=\"dataframe\">\n",
       "  <thead>\n",
       "    <tr style=\"text-align: right;\">\n",
       "      <th></th>\n",
       "      <th>user_id</th>\n",
       "      <th>actual</th>\n",
       "      <th>model_preds</th>\n",
       "      <th>model_preds_test</th>\n",
       "    </tr>\n",
       "  </thead>\n",
       "  <tbody>\n",
       "    <tr>\n",
       "      <th>0</th>\n",
       "      <td>1</td>\n",
       "      <td>[821867, 834484, 856942, 865456, 889248, 90795...</td>\n",
       "      <td>[1082185, 995242, 840361, 1005186]</td>\n",
       "      <td>[995242, 1005186, 1082185]</td>\n",
       "    </tr>\n",
       "    <tr>\n",
       "      <th>1</th>\n",
       "      <td>6</td>\n",
       "      <td>[920308, 926804, 946489, 1006718, 1017061, 107...</td>\n",
       "      <td>[1082185, 1024306]</td>\n",
       "      <td>[1024306]</td>\n",
       "    </tr>\n",
       "    <tr>\n",
       "      <th>2</th>\n",
       "      <td>7</td>\n",
       "      <td>[840386, 889774, 898068, 909714, 929067, 95347...</td>\n",
       "      <td>[1082185]</td>\n",
       "      <td>[1082185, 1126899]</td>\n",
       "    </tr>\n",
       "    <tr>\n",
       "      <th>3</th>\n",
       "      <td>8</td>\n",
       "      <td>[835098, 872137, 910439, 924610, 992977, 10412...</td>\n",
       "      <td>[1082185, 1029743]</td>\n",
       "      <td>[1082185, 1029743]</td>\n",
       "    </tr>\n",
       "  </tbody>\n",
       "</table>\n",
       "</div>"
      ],
      "text/plain": [
       "   user_id                                             actual  \\\n",
       "0        1  [821867, 834484, 856942, 865456, 889248, 90795...   \n",
       "1        6  [920308, 926804, 946489, 1006718, 1017061, 107...   \n",
       "2        7  [840386, 889774, 898068, 909714, 929067, 95347...   \n",
       "3        8  [835098, 872137, 910439, 924610, 992977, 10412...   \n",
       "\n",
       "                          model_preds            model_preds_test  \n",
       "0  [1082185, 995242, 840361, 1005186]  [995242, 1005186, 1082185]  \n",
       "1                  [1082185, 1024306]                   [1024306]  \n",
       "2                           [1082185]          [1082185, 1126899]  \n",
       "3                  [1082185, 1029743]          [1082185, 1029743]  "
      ]
     },
     "execution_count": 57,
     "metadata": {},
     "output_type": "execute_result"
    }
   ],
   "source": [
    "result_l2.head(4)"
   ]
  },
  {
   "cell_type": "markdown",
   "metadata": {},
   "source": [
    "## Точность на тесте "
   ]
  },
  {
   "cell_type": "code",
   "execution_count": 58,
   "metadata": {},
   "outputs": [
    {
     "data": {
      "text/plain": [
       "1.0"
      ]
     },
     "execution_count": 58,
     "metadata": {},
     "output_type": "execute_result"
    }
   ],
   "source": [
    "result_l2.apply(lambda row: precision_at_k(row['model_preds_test'], row['actual']), axis=1).mean()"
   ]
  },
  {
   "cell_type": "code",
   "execution_count": 59,
   "metadata": {},
   "outputs": [],
   "source": [
    "result_2_test = X_test_2[['user_id', 'item_id']]\n",
    "result_2_test['predictions'] = cat_proba\n",
    "\n",
    "result_2_test = result_2_test.groupby(['user_id', 'item_id'])['predictions'].median().reset_index()\n",
    "result_2_test = result_2_test.sort_values(['predictions'], ascending=False).groupby(['user_id']).head(5)\n",
    "result_2_test = result_2_test.groupby('user_id')['item_id'].unique().reset_index()"
   ]
  },
  {
   "cell_type": "code",
   "execution_count": 60,
   "metadata": {},
   "outputs": [],
   "source": [
    "result_2_test.columns = ['user_id', 'model_test_5']"
   ]
  },
  {
   "cell_type": "code",
   "execution_count": 61,
   "metadata": {},
   "outputs": [],
   "source": [
    "result_l2 = result_l2.merge(result_2_test, on ='user_id', how='inner' )"
   ]
  },
  {
   "cell_type": "code",
   "execution_count": 62,
   "metadata": {},
   "outputs": [
    {
     "data": {
      "text/plain": [
       "1.0"
      ]
     },
     "execution_count": 62,
     "metadata": {},
     "output_type": "execute_result"
    }
   ],
   "source": [
    "result_l2.apply(lambda row: precision_at_k(row['model_test_5'], row['actual']), axis=1).mean()"
   ]
  },
  {
   "cell_type": "code",
   "execution_count": 63,
   "metadata": {},
   "outputs": [
    {
     "data": {
      "text/plain": [
       "0.9965340625151786"
      ]
     },
     "execution_count": 63,
     "metadata": {},
     "output_type": "execute_result"
    }
   ],
   "source": [
    "NDCG_mean(result_l2['model_test_5'], result_l2['actual'])"
   ]
  },
  {
   "cell_type": "markdown",
   "metadata": {},
   "source": [
    "# Выводы\n",
    "Модель показала идеальную точность отчасти из за наличия таких признаков как любимые товары и популярность товара.\n",
    "Логично что чем больше раз пользователь покупал товар тем больше вероятность что пользователь вновь его купит.\n",
    "И соответсвенно чем популярней товар тем больше вероятность что пользователи его купят.\n",
    "Ранжирующая метрика NDCG так же близка к идеальной.\n",
    "Данная модель идеально предсказывает предпочтения пользователя однако не предлагает пользователю ничего нового или схожего с тем что он брал но не то что он брал.\n",
    "На AB тесте модель тоже скорей всего покажет хороший результат с любой другой моделью (по предсказанию).\n",
    "Однако дополнительной прибыли модель врятли принесет поскольку не рекомендует ничего нового.\n",
    "Для создания более разнообразных предложение для пользователя можно использовать bm24 tfidf взвешивание а так же уменьшить число любимых товаров.\n",
    "\n"
   ]
  }
 ],
 "metadata": {
  "colab": {
   "name": "hw_webinar_6.ipynb",
   "provenance": []
  },
  "kernelspec": {
   "display_name": "Python 3 (ipykernel)",
   "language": "python",
   "name": "python3"
  },
  "language_info": {
   "codemirror_mode": {
    "name": "ipython",
    "version": 3
   },
   "file_extension": ".py",
   "mimetype": "text/x-python",
   "name": "python",
   "nbconvert_exporter": "python",
   "pygments_lexer": "ipython3",
   "version": "3.11.5"
  }
 },
 "nbformat": 4,
 "nbformat_minor": 1
}
